{
  "cells": [
    {
      "cell_type": "markdown",
      "metadata": {
        "id": "NXeSh5ybmn6E"
      },
      "source": [
        "<a href=\"https://colab.research.google.com/github/amrios80/linear-regression-tutorial/blob/master/crabs/linear-regression-aptos.ipynb\" target=\"_parent\"><img src=\"https://colab.research.google.com/assets/colab-badge.svg\" alt=\"Open In Colab\"/></a>"
      ]
    },
    {
      "cell_type": "markdown",
      "metadata": {
        "id": "v_sF7Bkvmn6G"
      },
      "source": [
        "# Linear Regression\n",
        "\n",
        "MINE-4101: Applied Data Science  \n",
        "Univerisdad de los Andes  \n",
        "\n",
        "**Business context:** CrabsAlpes es una empresa líder en la industria pesquera que se especializa en la captura y distribución de cangrejos en la región de los Alpes. A medida que la demanda de cangrejos ha aumentado, también ha crecido la necesidad de entender con precisión las características y calidad de sus capturas. Parte de la calidad se relaciona con la edad del cangrejo, ya que puede influir en el sabor y textura de la carne. Sin embargo, determinar la edad exacta de un cangrejo solo a través de su apariencia es un reto. Por ello, CrabAlpes quiere desarrollar un modelo de regresión lineal que pueda estimar la edad de un cangrejo basándose en características físicas medibles como la longitud, el diámetro, el peso, entre otras. Con este modelo, la empresa espera mejorar la clasificación y venta de sus productos, garantizando a sus clientes un estándar de calidad y frescura uniforme.\n",
        "\n",
        "**Dataset:** Crab Age Prediction, source: [Kaggle](https://www.kaggle.com/datasets/sidhus/crab-age-prediction).\n",
        "\n",
        "**Data dictionary:**  \n",
        "- Sex (char): Sexo. Masculino, femenino o indeterminado.  \n",
        "- Length (numeric): Longitud.  \n",
        "- Diameter (numeric): Diámetro.  \n",
        "- Height (numeric): Altura.  \n",
        "- Weight (numeric): Peso.  \n",
        "- Shucked Weight (numeric): Peso descascarado.  \n",
        "- Viscera Weight (numeric): Peso de las vísceras.  \n",
        "- Shell Weight (numeric): Peso del caparazón.  \n",
        "- Age (numeric): Edad.\n",
        "\n",
        "Last update: September, 2023"
      ]
    },
    {
      "cell_type": "code",
      "execution_count": 2,
      "metadata": {
        "id": "czDmPCZUmn6I"
      },
      "outputs": [],
      "source": [
        "import numpy as np\n",
        "import pandas as pd\n",
        "\n",
        "from joblib import dump, load\n",
        "\n",
        "import matplotlib.pyplot as plt\n",
        "import seaborn as sns\n",
        "\n",
        "from sklearn.model_selection import train_test_split\n",
        "from sklearn.linear_model import LinearRegression\n",
        "from sklearn.pipeline import Pipeline\n",
        "from sklearn.compose import ColumnTransformer\n",
        "from sklearn.preprocessing import StandardScaler\n",
        "from sklearn.preprocessing import PolynomialFeatures\n",
        "from sklearn.metrics import mean_absolute_error, mean_squared_error, r2_score\n",
        "\n",
        "import scipy.stats as stats"
      ]
    },
    {
      "cell_type": "code",
      "execution_count": 3,
      "metadata": {
        "id": "eoqArA31mn6J"
      },
      "outputs": [],
      "source": [
        "pd.set_option(\"display.max_columns\", None)\n",
        "pd.set_option(\"display.max_rows\", 50)\n",
        "pd.set_option('display.float_format', '{:.2f}'.format)"
      ]
    },
    {
      "cell_type": "markdown",
      "metadata": {
        "tags": [],
        "id": "qXyDp8nXmn6K"
      },
      "source": [
        "## 1. Carga de los datos"
      ]
    },
    {
      "cell_type": "code",
      "execution_count": 4,
      "metadata": {
        "id": "1gRUA9DJmn6L"
      },
      "outputs": [],
      "source": [
        "dataset_url=\"https://github.com/amrios80/linear-regression-tutorial/raw/refs/heads/master/crabs/data/apartamentos.zip\"\n",
        "apto_df = pd.read_csv(dataset_url, compression=\"zip\")\n",
        "#crabs_df = pd.read_csv(\"./data/CrabAgePrediction.csv\")\n"
      ]
    },
    {
      "cell_type": "code",
      "execution_count": 5,
      "metadata": {
        "colab": {
          "base_uri": "https://localhost:8080/"
        },
        "id": "sK1cxsBHmn6T",
        "outputId": "5b9ad8d6-a5c1-42df-c810-fe12937b1e78"
      },
      "outputs": [
        {
          "output_type": "execute_result",
          "data": {
            "text/plain": [
              "(43013, 46)"
            ]
          },
          "metadata": {},
          "execution_count": 5
        }
      ],
      "source": [
        "apto_df.shape"
      ]
    },
    {
      "cell_type": "code",
      "execution_count": 6,
      "metadata": {
        "colab": {
          "base_uri": "https://localhost:8080/",
          "height": 1000
        },
        "id": "4q0NKWRImn6T",
        "outputId": "9053ecba-65c1-4021-c6d6-7e3dee577c99"
      },
      "outputs": [
        {
          "output_type": "execute_result",
          "data": {
            "text/plain": [
              "_id                         object\n",
              "codigo                      object\n",
              "tipo_propiedad              object\n",
              "tipo_operacion              object\n",
              "precio_venta               float64\n",
              "area                       float64\n",
              "habitaciones               float64\n",
              "banos                      float64\n",
              "administracion             float64\n",
              "parqueaderos               float64\n",
              "sector                      object\n",
              "estrato                    float64\n",
              "antiguedad                  object\n",
              "latitud                    float64\n",
              "longitud                   float64\n",
              "direccion                   object\n",
              "descripcion                 object\n",
              "website                     object\n",
              "last_view                   object\n",
              "datetime                    object\n",
              "url                         object\n",
              "timeline                    object\n",
              "estado                      object\n",
              "compañia                    object\n",
              "precio_arriendo            float64\n",
              "jacuzzi                    float64\n",
              "piso                       float64\n",
              "closets                    float64\n",
              "chimenea                   float64\n",
              "permite_mascotas           float64\n",
              "gimnasio                   float64\n",
              "ascensor                   float64\n",
              "conjunto_cerrado           float64\n",
              "piscina                    float64\n",
              "salon_comunal              float64\n",
              "terraza                    float64\n",
              "vigilancia                 float64\n",
              "coords_modified               bool\n",
              "localidad                   object\n",
              "barrio                      object\n",
              "estacion_tm_cercana         object\n",
              "distancia_estacion_tm_m    float64\n",
              "is_cerca_estacion_tm         int64\n",
              "parque_cercano              object\n",
              "distancia_parque_m         float64\n",
              "is_cerca_parque              int64\n",
              "dtype: object"
            ],
            "text/html": [
              "<div>\n",
              "<style scoped>\n",
              "    .dataframe tbody tr th:only-of-type {\n",
              "        vertical-align: middle;\n",
              "    }\n",
              "\n",
              "    .dataframe tbody tr th {\n",
              "        vertical-align: top;\n",
              "    }\n",
              "\n",
              "    .dataframe thead th {\n",
              "        text-align: right;\n",
              "    }\n",
              "</style>\n",
              "<table border=\"1\" class=\"dataframe\">\n",
              "  <thead>\n",
              "    <tr style=\"text-align: right;\">\n",
              "      <th></th>\n",
              "      <th>0</th>\n",
              "    </tr>\n",
              "  </thead>\n",
              "  <tbody>\n",
              "    <tr>\n",
              "      <th>_id</th>\n",
              "      <td>object</td>\n",
              "    </tr>\n",
              "    <tr>\n",
              "      <th>codigo</th>\n",
              "      <td>object</td>\n",
              "    </tr>\n",
              "    <tr>\n",
              "      <th>tipo_propiedad</th>\n",
              "      <td>object</td>\n",
              "    </tr>\n",
              "    <tr>\n",
              "      <th>tipo_operacion</th>\n",
              "      <td>object</td>\n",
              "    </tr>\n",
              "    <tr>\n",
              "      <th>precio_venta</th>\n",
              "      <td>float64</td>\n",
              "    </tr>\n",
              "    <tr>\n",
              "      <th>area</th>\n",
              "      <td>float64</td>\n",
              "    </tr>\n",
              "    <tr>\n",
              "      <th>habitaciones</th>\n",
              "      <td>float64</td>\n",
              "    </tr>\n",
              "    <tr>\n",
              "      <th>banos</th>\n",
              "      <td>float64</td>\n",
              "    </tr>\n",
              "    <tr>\n",
              "      <th>administracion</th>\n",
              "      <td>float64</td>\n",
              "    </tr>\n",
              "    <tr>\n",
              "      <th>parqueaderos</th>\n",
              "      <td>float64</td>\n",
              "    </tr>\n",
              "    <tr>\n",
              "      <th>sector</th>\n",
              "      <td>object</td>\n",
              "    </tr>\n",
              "    <tr>\n",
              "      <th>estrato</th>\n",
              "      <td>float64</td>\n",
              "    </tr>\n",
              "    <tr>\n",
              "      <th>antiguedad</th>\n",
              "      <td>object</td>\n",
              "    </tr>\n",
              "    <tr>\n",
              "      <th>latitud</th>\n",
              "      <td>float64</td>\n",
              "    </tr>\n",
              "    <tr>\n",
              "      <th>longitud</th>\n",
              "      <td>float64</td>\n",
              "    </tr>\n",
              "    <tr>\n",
              "      <th>direccion</th>\n",
              "      <td>object</td>\n",
              "    </tr>\n",
              "    <tr>\n",
              "      <th>descripcion</th>\n",
              "      <td>object</td>\n",
              "    </tr>\n",
              "    <tr>\n",
              "      <th>website</th>\n",
              "      <td>object</td>\n",
              "    </tr>\n",
              "    <tr>\n",
              "      <th>last_view</th>\n",
              "      <td>object</td>\n",
              "    </tr>\n",
              "    <tr>\n",
              "      <th>datetime</th>\n",
              "      <td>object</td>\n",
              "    </tr>\n",
              "    <tr>\n",
              "      <th>url</th>\n",
              "      <td>object</td>\n",
              "    </tr>\n",
              "    <tr>\n",
              "      <th>timeline</th>\n",
              "      <td>object</td>\n",
              "    </tr>\n",
              "    <tr>\n",
              "      <th>estado</th>\n",
              "      <td>object</td>\n",
              "    </tr>\n",
              "    <tr>\n",
              "      <th>compañia</th>\n",
              "      <td>object</td>\n",
              "    </tr>\n",
              "    <tr>\n",
              "      <th>precio_arriendo</th>\n",
              "      <td>float64</td>\n",
              "    </tr>\n",
              "    <tr>\n",
              "      <th>jacuzzi</th>\n",
              "      <td>float64</td>\n",
              "    </tr>\n",
              "    <tr>\n",
              "      <th>piso</th>\n",
              "      <td>float64</td>\n",
              "    </tr>\n",
              "    <tr>\n",
              "      <th>closets</th>\n",
              "      <td>float64</td>\n",
              "    </tr>\n",
              "    <tr>\n",
              "      <th>chimenea</th>\n",
              "      <td>float64</td>\n",
              "    </tr>\n",
              "    <tr>\n",
              "      <th>permite_mascotas</th>\n",
              "      <td>float64</td>\n",
              "    </tr>\n",
              "    <tr>\n",
              "      <th>gimnasio</th>\n",
              "      <td>float64</td>\n",
              "    </tr>\n",
              "    <tr>\n",
              "      <th>ascensor</th>\n",
              "      <td>float64</td>\n",
              "    </tr>\n",
              "    <tr>\n",
              "      <th>conjunto_cerrado</th>\n",
              "      <td>float64</td>\n",
              "    </tr>\n",
              "    <tr>\n",
              "      <th>piscina</th>\n",
              "      <td>float64</td>\n",
              "    </tr>\n",
              "    <tr>\n",
              "      <th>salon_comunal</th>\n",
              "      <td>float64</td>\n",
              "    </tr>\n",
              "    <tr>\n",
              "      <th>terraza</th>\n",
              "      <td>float64</td>\n",
              "    </tr>\n",
              "    <tr>\n",
              "      <th>vigilancia</th>\n",
              "      <td>float64</td>\n",
              "    </tr>\n",
              "    <tr>\n",
              "      <th>coords_modified</th>\n",
              "      <td>bool</td>\n",
              "    </tr>\n",
              "    <tr>\n",
              "      <th>localidad</th>\n",
              "      <td>object</td>\n",
              "    </tr>\n",
              "    <tr>\n",
              "      <th>barrio</th>\n",
              "      <td>object</td>\n",
              "    </tr>\n",
              "    <tr>\n",
              "      <th>estacion_tm_cercana</th>\n",
              "      <td>object</td>\n",
              "    </tr>\n",
              "    <tr>\n",
              "      <th>distancia_estacion_tm_m</th>\n",
              "      <td>float64</td>\n",
              "    </tr>\n",
              "    <tr>\n",
              "      <th>is_cerca_estacion_tm</th>\n",
              "      <td>int64</td>\n",
              "    </tr>\n",
              "    <tr>\n",
              "      <th>parque_cercano</th>\n",
              "      <td>object</td>\n",
              "    </tr>\n",
              "    <tr>\n",
              "      <th>distancia_parque_m</th>\n",
              "      <td>float64</td>\n",
              "    </tr>\n",
              "    <tr>\n",
              "      <th>is_cerca_parque</th>\n",
              "      <td>int64</td>\n",
              "    </tr>\n",
              "  </tbody>\n",
              "</table>\n",
              "</div><br><label><b>dtype:</b> object</label>"
            ]
          },
          "metadata": {},
          "execution_count": 6
        }
      ],
      "source": [
        "apto_df.dtypes"
      ]
    },
    {
      "cell_type": "code",
      "execution_count": 8,
      "metadata": {
        "colab": {
          "base_uri": "https://localhost:8080/",
          "height": 573
        },
        "id": "nVyqxL5rmn6U",
        "outputId": "9527ef4f-9abe-47e0-d309-4852af2699d1"
      },
      "outputs": [
        {
          "output_type": "execute_result",
          "data": {
            "text/plain": [
              "                            _id          codigo tipo_propiedad tipo_operacion  \\\n",
              "36014  66d86e23ceda690e8551140e  15815-M5082637    APARTAMENTO          VENTA   \n",
              "36849  66d86e35ceda690e85511751   4058-M5054757    APARTAMENTO       ARRIENDO   \n",
              "23219  66d86d44ceda690e8550e213    851-M2217156    APARTAMENTO       ARRIENDO   \n",
              "19997  66d86d19ceda690e8550d57d  10165-M4895394    APARTAMENTO          VENTA   \n",
              "32911  66d86de5ceda690e855107ef    258-M5112470    APARTAMENTO       ARRIENDO   \n",
              "\n",
              "       precio_venta    area  habitaciones  banos  administracion  \\\n",
              "36014   231800000.0   40.00           2.0    1.0        121000.0   \n",
              "36849           NaN   90.00           2.0    2.0         10000.0   \n",
              "23219           NaN  220.00           3.0    5.0       1500000.0   \n",
              "19997   395000000.0   69.23           3.0    2.0        415000.0   \n",
              "32911           NaN  260.00           4.0    2.0             NaN   \n",
              "\n",
              "       parqueaderos                sector  estrato          antiguedad  \\\n",
              "36014           1.0    TIMIZA LA ALQUERIA      2.0   ENTRE 5 Y 10 ANOS   \n",
              "36849           1.0               COUNTRY      5.0  ENTRE 10 Y 20 ANOS   \n",
              "23219           3.0               COUNTRY      5.0  ENTRE 10 Y 20 ANOS   \n",
              "19997           1.0  COLINA Y ALREDEDORES      3.0    ENTRE 0 Y 5 ANOS   \n",
              "32911           1.0             NORMANDIA      4.0      MAS DE 20 ANOS   \n",
              "\n",
              "        latitud   longitud direccion  \\\n",
              "36014  4.597939 -74.141426       NaN   \n",
              "36849  4.716901 -74.041020       NaN   \n",
              "23219  4.706428 -74.048390       NaN   \n",
              "19997  4.750450 -74.052704       NaN   \n",
              "32911  4.673660 -74.106490       NaN   \n",
              "\n",
              "                                             descripcion            website  \\\n",
              "36014  apartamento en venta al respaldo de alkosto de...  metrocuadrado.com   \n",
              "36849  se arrienda casa de 90 metros cuadrados. const...  metrocuadrado.com   \n",
              "23219  hermoso apartamento con vista a parque, area m...  metrocuadrado.com   \n",
              "19997  bonito y acogedor apartamento en el norte de l...  metrocuadrado.com   \n",
              "32911  excelente apartamento en segundo piso, ilumina...  metrocuadrado.com   \n",
              "\n",
              "                     last_view                 datetime  url  \\\n",
              "36014  2024-08-23 02:20:06.476  2024-08-09 02:43:27.439  NaN   \n",
              "36849  2024-08-09 09:15:32.680  2024-08-09 09:15:32.680  NaN   \n",
              "23219  2024-08-13 23:04:04.859  2024-07-07 21:31:45.358  NaN   \n",
              "19997  2024-08-08 22:30:56.797  2024-07-07 11:56:24.944  NaN   \n",
              "32911  2024-08-09 08:00:29.515  2024-08-03 08:42:06.888  NaN   \n",
              "\n",
              "                                                timeline estado  \\\n",
              "36014  [{'fecha': {'$date': '2024-08-09T02:43:27.439Z...  USADO   \n",
              "36849                                                NaN  USADO   \n",
              "23219                                                 []  USADO   \n",
              "19997  [{'fecha': {'$date': '2024-07-07T11:56:24.944Z...  USADO   \n",
              "32911                                                 []  USADO   \n",
              "\n",
              "                               compañia  precio_arriendo  jacuzzi  piso  \\\n",
              "36014                       RICO-MERCIO              NaN      0.0   NaN   \n",
              "36849  EL GRAN MERCADO INMOBILIARIO SAS        2000000.0      0.0   NaN   \n",
              "23219  ALTITUD GRUPO INMOBILIARIO S.A.S        7500000.0      0.0   NaN   \n",
              "19997                  RENTAESPACIO SAS              NaN      0.0   NaN   \n",
              "32911        B&P BIENES Y PROYECTOS S.A        2750000.0      0.0   NaN   \n",
              "\n",
              "       closets  chimenea  permite_mascotas  gimnasio  ascensor  \\\n",
              "36014      NaN       0.0               0.0       1.0       1.0   \n",
              "36849      NaN       0.0               0.0       0.0       0.0   \n",
              "23219      NaN       0.0               0.0       0.0       0.0   \n",
              "19997      NaN       0.0               0.0       0.0       1.0   \n",
              "32911      NaN       0.0               0.0       0.0       0.0   \n",
              "\n",
              "       conjunto_cerrado  piscina  salon_comunal  terraza  vigilancia  \\\n",
              "36014               1.0      0.0            0.0      0.0         1.0   \n",
              "36849               0.0      0.0            0.0      0.0         0.0   \n",
              "23219               0.0      0.0            0.0      0.0         1.0   \n",
              "19997               1.0      0.0            0.0      0.0         1.0   \n",
              "32911               0.0      0.0            0.0      0.0         0.0   \n",
              "\n",
              "       coords_modified localidad                barrio  \\\n",
              "36014            False   KENNEDY  RINCON DE SAN ANDRES   \n",
              "36849            False   USAQUEN         NUEVO COUNTRY   \n",
              "23219            False   USAQUEN            LA CALLEJA   \n",
              "19997            False      SUBA         GRANADA NORTE   \n",
              "32911            False  ENGATIVA   NORMANDIA IV SECTOR   \n",
              "\n",
              "                       estacion_tm_cercana  distancia_estacion_tm_m  \\\n",
              "36014                              Venecia                   296.57   \n",
              "36849  Alcalá – Colegio S. Tomás Dominicos                  1249.36   \n",
              "23219                            Calle 127                   676.94   \n",
              "19997                  Toberin - Foundever                   766.33   \n",
              "32911                            Normandía                   910.48   \n",
              "\n",
              "       is_cerca_estacion_tm  \\\n",
              "36014                     1   \n",
              "36849                     0   \n",
              "23219                     0   \n",
              "19997                     0   \n",
              "32911                     0   \n",
              "\n",
              "                                          parque_cercano  distancia_parque_m  \\\n",
              "36014           PARQUE VECINAL URBANIZACIÓN LAS LAGUNETA              670.10   \n",
              "36849       PARQUE VECINAL NUEVA URBANIZACIÓN EL CEDRITO             1096.86   \n",
              "23219                              PARQUE ZONAL ATABANZA             1115.30   \n",
              "19997  PARQUE VECINAL DESARROLLO CANTALEJO URBANIZACI...             1010.97   \n",
              "32911  PARQUE ESCENARIO DEPORTIVO UNIDAD DEPORTIVA EL...             1297.23   \n",
              "\n",
              "       is_cerca_parque  \n",
              "36014                0  \n",
              "36849                0  \n",
              "23219                0  \n",
              "19997                0  \n",
              "32911                0  "
            ],
            "text/html": [
              "\n",
              "  <div id=\"df-336e6c43-6d0c-4cb4-8d36-415773a9a487\" class=\"colab-df-container\">\n",
              "    <div>\n",
              "<style scoped>\n",
              "    .dataframe tbody tr th:only-of-type {\n",
              "        vertical-align: middle;\n",
              "    }\n",
              "\n",
              "    .dataframe tbody tr th {\n",
              "        vertical-align: top;\n",
              "    }\n",
              "\n",
              "    .dataframe thead th {\n",
              "        text-align: right;\n",
              "    }\n",
              "</style>\n",
              "<table border=\"1\" class=\"dataframe\">\n",
              "  <thead>\n",
              "    <tr style=\"text-align: right;\">\n",
              "      <th></th>\n",
              "      <th>_id</th>\n",
              "      <th>codigo</th>\n",
              "      <th>tipo_propiedad</th>\n",
              "      <th>tipo_operacion</th>\n",
              "      <th>precio_venta</th>\n",
              "      <th>area</th>\n",
              "      <th>habitaciones</th>\n",
              "      <th>banos</th>\n",
              "      <th>administracion</th>\n",
              "      <th>parqueaderos</th>\n",
              "      <th>sector</th>\n",
              "      <th>estrato</th>\n",
              "      <th>antiguedad</th>\n",
              "      <th>latitud</th>\n",
              "      <th>longitud</th>\n",
              "      <th>direccion</th>\n",
              "      <th>descripcion</th>\n",
              "      <th>website</th>\n",
              "      <th>last_view</th>\n",
              "      <th>datetime</th>\n",
              "      <th>url</th>\n",
              "      <th>timeline</th>\n",
              "      <th>estado</th>\n",
              "      <th>compañia</th>\n",
              "      <th>precio_arriendo</th>\n",
              "      <th>jacuzzi</th>\n",
              "      <th>piso</th>\n",
              "      <th>closets</th>\n",
              "      <th>chimenea</th>\n",
              "      <th>permite_mascotas</th>\n",
              "      <th>gimnasio</th>\n",
              "      <th>ascensor</th>\n",
              "      <th>conjunto_cerrado</th>\n",
              "      <th>piscina</th>\n",
              "      <th>salon_comunal</th>\n",
              "      <th>terraza</th>\n",
              "      <th>vigilancia</th>\n",
              "      <th>coords_modified</th>\n",
              "      <th>localidad</th>\n",
              "      <th>barrio</th>\n",
              "      <th>estacion_tm_cercana</th>\n",
              "      <th>distancia_estacion_tm_m</th>\n",
              "      <th>is_cerca_estacion_tm</th>\n",
              "      <th>parque_cercano</th>\n",
              "      <th>distancia_parque_m</th>\n",
              "      <th>is_cerca_parque</th>\n",
              "    </tr>\n",
              "  </thead>\n",
              "  <tbody>\n",
              "    <tr>\n",
              "      <th>36014</th>\n",
              "      <td>66d86e23ceda690e8551140e</td>\n",
              "      <td>15815-M5082637</td>\n",
              "      <td>APARTAMENTO</td>\n",
              "      <td>VENTA</td>\n",
              "      <td>231800000.0</td>\n",
              "      <td>40.00</td>\n",
              "      <td>2.0</td>\n",
              "      <td>1.0</td>\n",
              "      <td>121000.0</td>\n",
              "      <td>1.0</td>\n",
              "      <td>TIMIZA LA ALQUERIA</td>\n",
              "      <td>2.0</td>\n",
              "      <td>ENTRE 5 Y 10 ANOS</td>\n",
              "      <td>4.597939</td>\n",
              "      <td>-74.141426</td>\n",
              "      <td>NaN</td>\n",
              "      <td>apartamento en venta al respaldo de alkosto de...</td>\n",
              "      <td>metrocuadrado.com</td>\n",
              "      <td>2024-08-23 02:20:06.476</td>\n",
              "      <td>2024-08-09 02:43:27.439</td>\n",
              "      <td>NaN</td>\n",
              "      <td>[{'fecha': {'$date': '2024-08-09T02:43:27.439Z...</td>\n",
              "      <td>USADO</td>\n",
              "      <td>RICO-MERCIO</td>\n",
              "      <td>NaN</td>\n",
              "      <td>0.0</td>\n",
              "      <td>NaN</td>\n",
              "      <td>NaN</td>\n",
              "      <td>0.0</td>\n",
              "      <td>0.0</td>\n",
              "      <td>1.0</td>\n",
              "      <td>1.0</td>\n",
              "      <td>1.0</td>\n",
              "      <td>0.0</td>\n",
              "      <td>0.0</td>\n",
              "      <td>0.0</td>\n",
              "      <td>1.0</td>\n",
              "      <td>False</td>\n",
              "      <td>KENNEDY</td>\n",
              "      <td>RINCON DE SAN ANDRES</td>\n",
              "      <td>Venecia</td>\n",
              "      <td>296.57</td>\n",
              "      <td>1</td>\n",
              "      <td>PARQUE VECINAL URBANIZACIÓN LAS LAGUNETA</td>\n",
              "      <td>670.10</td>\n",
              "      <td>0</td>\n",
              "    </tr>\n",
              "    <tr>\n",
              "      <th>36849</th>\n",
              "      <td>66d86e35ceda690e85511751</td>\n",
              "      <td>4058-M5054757</td>\n",
              "      <td>APARTAMENTO</td>\n",
              "      <td>ARRIENDO</td>\n",
              "      <td>NaN</td>\n",
              "      <td>90.00</td>\n",
              "      <td>2.0</td>\n",
              "      <td>2.0</td>\n",
              "      <td>10000.0</td>\n",
              "      <td>1.0</td>\n",
              "      <td>COUNTRY</td>\n",
              "      <td>5.0</td>\n",
              "      <td>ENTRE 10 Y 20 ANOS</td>\n",
              "      <td>4.716901</td>\n",
              "      <td>-74.041020</td>\n",
              "      <td>NaN</td>\n",
              "      <td>se arrienda casa de 90 metros cuadrados. const...</td>\n",
              "      <td>metrocuadrado.com</td>\n",
              "      <td>2024-08-09 09:15:32.680</td>\n",
              "      <td>2024-08-09 09:15:32.680</td>\n",
              "      <td>NaN</td>\n",
              "      <td>NaN</td>\n",
              "      <td>USADO</td>\n",
              "      <td>EL GRAN MERCADO INMOBILIARIO SAS</td>\n",
              "      <td>2000000.0</td>\n",
              "      <td>0.0</td>\n",
              "      <td>NaN</td>\n",
              "      <td>NaN</td>\n",
              "      <td>0.0</td>\n",
              "      <td>0.0</td>\n",
              "      <td>0.0</td>\n",
              "      <td>0.0</td>\n",
              "      <td>0.0</td>\n",
              "      <td>0.0</td>\n",
              "      <td>0.0</td>\n",
              "      <td>0.0</td>\n",
              "      <td>0.0</td>\n",
              "      <td>False</td>\n",
              "      <td>USAQUEN</td>\n",
              "      <td>NUEVO COUNTRY</td>\n",
              "      <td>Alcalá – Colegio S. Tomás Dominicos</td>\n",
              "      <td>1249.36</td>\n",
              "      <td>0</td>\n",
              "      <td>PARQUE VECINAL NUEVA URBANIZACIÓN EL CEDRITO</td>\n",
              "      <td>1096.86</td>\n",
              "      <td>0</td>\n",
              "    </tr>\n",
              "    <tr>\n",
              "      <th>23219</th>\n",
              "      <td>66d86d44ceda690e8550e213</td>\n",
              "      <td>851-M2217156</td>\n",
              "      <td>APARTAMENTO</td>\n",
              "      <td>ARRIENDO</td>\n",
              "      <td>NaN</td>\n",
              "      <td>220.00</td>\n",
              "      <td>3.0</td>\n",
              "      <td>5.0</td>\n",
              "      <td>1500000.0</td>\n",
              "      <td>3.0</td>\n",
              "      <td>COUNTRY</td>\n",
              "      <td>5.0</td>\n",
              "      <td>ENTRE 10 Y 20 ANOS</td>\n",
              "      <td>4.706428</td>\n",
              "      <td>-74.048390</td>\n",
              "      <td>NaN</td>\n",
              "      <td>hermoso apartamento con vista a parque, area m...</td>\n",
              "      <td>metrocuadrado.com</td>\n",
              "      <td>2024-08-13 23:04:04.859</td>\n",
              "      <td>2024-07-07 21:31:45.358</td>\n",
              "      <td>NaN</td>\n",
              "      <td>[]</td>\n",
              "      <td>USADO</td>\n",
              "      <td>ALTITUD GRUPO INMOBILIARIO S.A.S</td>\n",
              "      <td>7500000.0</td>\n",
              "      <td>0.0</td>\n",
              "      <td>NaN</td>\n",
              "      <td>NaN</td>\n",
              "      <td>0.0</td>\n",
              "      <td>0.0</td>\n",
              "      <td>0.0</td>\n",
              "      <td>0.0</td>\n",
              "      <td>0.0</td>\n",
              "      <td>0.0</td>\n",
              "      <td>0.0</td>\n",
              "      <td>0.0</td>\n",
              "      <td>1.0</td>\n",
              "      <td>False</td>\n",
              "      <td>USAQUEN</td>\n",
              "      <td>LA CALLEJA</td>\n",
              "      <td>Calle 127</td>\n",
              "      <td>676.94</td>\n",
              "      <td>0</td>\n",
              "      <td>PARQUE ZONAL ATABANZA</td>\n",
              "      <td>1115.30</td>\n",
              "      <td>0</td>\n",
              "    </tr>\n",
              "    <tr>\n",
              "      <th>19997</th>\n",
              "      <td>66d86d19ceda690e8550d57d</td>\n",
              "      <td>10165-M4895394</td>\n",
              "      <td>APARTAMENTO</td>\n",
              "      <td>VENTA</td>\n",
              "      <td>395000000.0</td>\n",
              "      <td>69.23</td>\n",
              "      <td>3.0</td>\n",
              "      <td>2.0</td>\n",
              "      <td>415000.0</td>\n",
              "      <td>1.0</td>\n",
              "      <td>COLINA Y ALREDEDORES</td>\n",
              "      <td>3.0</td>\n",
              "      <td>ENTRE 0 Y 5 ANOS</td>\n",
              "      <td>4.750450</td>\n",
              "      <td>-74.052704</td>\n",
              "      <td>NaN</td>\n",
              "      <td>bonito y acogedor apartamento en el norte de l...</td>\n",
              "      <td>metrocuadrado.com</td>\n",
              "      <td>2024-08-08 22:30:56.797</td>\n",
              "      <td>2024-07-07 11:56:24.944</td>\n",
              "      <td>NaN</td>\n",
              "      <td>[{'fecha': {'$date': '2024-07-07T11:56:24.944Z...</td>\n",
              "      <td>USADO</td>\n",
              "      <td>RENTAESPACIO SAS</td>\n",
              "      <td>NaN</td>\n",
              "      <td>0.0</td>\n",
              "      <td>NaN</td>\n",
              "      <td>NaN</td>\n",
              "      <td>0.0</td>\n",
              "      <td>0.0</td>\n",
              "      <td>0.0</td>\n",
              "      <td>1.0</td>\n",
              "      <td>1.0</td>\n",
              "      <td>0.0</td>\n",
              "      <td>0.0</td>\n",
              "      <td>0.0</td>\n",
              "      <td>1.0</td>\n",
              "      <td>False</td>\n",
              "      <td>SUBA</td>\n",
              "      <td>GRANADA NORTE</td>\n",
              "      <td>Toberin - Foundever</td>\n",
              "      <td>766.33</td>\n",
              "      <td>0</td>\n",
              "      <td>PARQUE VECINAL DESARROLLO CANTALEJO URBANIZACI...</td>\n",
              "      <td>1010.97</td>\n",
              "      <td>0</td>\n",
              "    </tr>\n",
              "    <tr>\n",
              "      <th>32911</th>\n",
              "      <td>66d86de5ceda690e855107ef</td>\n",
              "      <td>258-M5112470</td>\n",
              "      <td>APARTAMENTO</td>\n",
              "      <td>ARRIENDO</td>\n",
              "      <td>NaN</td>\n",
              "      <td>260.00</td>\n",
              "      <td>4.0</td>\n",
              "      <td>2.0</td>\n",
              "      <td>NaN</td>\n",
              "      <td>1.0</td>\n",
              "      <td>NORMANDIA</td>\n",
              "      <td>4.0</td>\n",
              "      <td>MAS DE 20 ANOS</td>\n",
              "      <td>4.673660</td>\n",
              "      <td>-74.106490</td>\n",
              "      <td>NaN</td>\n",
              "      <td>excelente apartamento en segundo piso, ilumina...</td>\n",
              "      <td>metrocuadrado.com</td>\n",
              "      <td>2024-08-09 08:00:29.515</td>\n",
              "      <td>2024-08-03 08:42:06.888</td>\n",
              "      <td>NaN</td>\n",
              "      <td>[]</td>\n",
              "      <td>USADO</td>\n",
              "      <td>B&amp;P BIENES Y PROYECTOS S.A</td>\n",
              "      <td>2750000.0</td>\n",
              "      <td>0.0</td>\n",
              "      <td>NaN</td>\n",
              "      <td>NaN</td>\n",
              "      <td>0.0</td>\n",
              "      <td>0.0</td>\n",
              "      <td>0.0</td>\n",
              "      <td>0.0</td>\n",
              "      <td>0.0</td>\n",
              "      <td>0.0</td>\n",
              "      <td>0.0</td>\n",
              "      <td>0.0</td>\n",
              "      <td>0.0</td>\n",
              "      <td>False</td>\n",
              "      <td>ENGATIVA</td>\n",
              "      <td>NORMANDIA IV SECTOR</td>\n",
              "      <td>Normandía</td>\n",
              "      <td>910.48</td>\n",
              "      <td>0</td>\n",
              "      <td>PARQUE ESCENARIO DEPORTIVO UNIDAD DEPORTIVA EL...</td>\n",
              "      <td>1297.23</td>\n",
              "      <td>0</td>\n",
              "    </tr>\n",
              "  </tbody>\n",
              "</table>\n",
              "</div>\n",
              "    <div class=\"colab-df-buttons\">\n",
              "\n",
              "  <div class=\"colab-df-container\">\n",
              "    <button class=\"colab-df-convert\" onclick=\"convertToInteractive('df-336e6c43-6d0c-4cb4-8d36-415773a9a487')\"\n",
              "            title=\"Convert this dataframe to an interactive table.\"\n",
              "            style=\"display:none;\">\n",
              "\n",
              "  <svg xmlns=\"http://www.w3.org/2000/svg\" height=\"24px\" viewBox=\"0 -960 960 960\">\n",
              "    <path d=\"M120-120v-720h720v720H120Zm60-500h600v-160H180v160Zm220 220h160v-160H400v160Zm0 220h160v-160H400v160ZM180-400h160v-160H180v160Zm440 0h160v-160H620v160ZM180-180h160v-160H180v160Zm440 0h160v-160H620v160Z\"/>\n",
              "  </svg>\n",
              "    </button>\n",
              "\n",
              "  <style>\n",
              "    .colab-df-container {\n",
              "      display:flex;\n",
              "      gap: 12px;\n",
              "    }\n",
              "\n",
              "    .colab-df-convert {\n",
              "      background-color: #E8F0FE;\n",
              "      border: none;\n",
              "      border-radius: 50%;\n",
              "      cursor: pointer;\n",
              "      display: none;\n",
              "      fill: #1967D2;\n",
              "      height: 32px;\n",
              "      padding: 0 0 0 0;\n",
              "      width: 32px;\n",
              "    }\n",
              "\n",
              "    .colab-df-convert:hover {\n",
              "      background-color: #E2EBFA;\n",
              "      box-shadow: 0px 1px 2px rgba(60, 64, 67, 0.3), 0px 1px 3px 1px rgba(60, 64, 67, 0.15);\n",
              "      fill: #174EA6;\n",
              "    }\n",
              "\n",
              "    .colab-df-buttons div {\n",
              "      margin-bottom: 4px;\n",
              "    }\n",
              "\n",
              "    [theme=dark] .colab-df-convert {\n",
              "      background-color: #3B4455;\n",
              "      fill: #D2E3FC;\n",
              "    }\n",
              "\n",
              "    [theme=dark] .colab-df-convert:hover {\n",
              "      background-color: #434B5C;\n",
              "      box-shadow: 0px 1px 3px 1px rgba(0, 0, 0, 0.15);\n",
              "      filter: drop-shadow(0px 1px 2px rgba(0, 0, 0, 0.3));\n",
              "      fill: #FFFFFF;\n",
              "    }\n",
              "  </style>\n",
              "\n",
              "    <script>\n",
              "      const buttonEl =\n",
              "        document.querySelector('#df-336e6c43-6d0c-4cb4-8d36-415773a9a487 button.colab-df-convert');\n",
              "      buttonEl.style.display =\n",
              "        google.colab.kernel.accessAllowed ? 'block' : 'none';\n",
              "\n",
              "      async function convertToInteractive(key) {\n",
              "        const element = document.querySelector('#df-336e6c43-6d0c-4cb4-8d36-415773a9a487');\n",
              "        const dataTable =\n",
              "          await google.colab.kernel.invokeFunction('convertToInteractive',\n",
              "                                                    [key], {});\n",
              "        if (!dataTable) return;\n",
              "\n",
              "        const docLinkHtml = 'Like what you see? Visit the ' +\n",
              "          '<a target=\"_blank\" href=https://colab.research.google.com/notebooks/data_table.ipynb>data table notebook</a>'\n",
              "          + ' to learn more about interactive tables.';\n",
              "        element.innerHTML = '';\n",
              "        dataTable['output_type'] = 'display_data';\n",
              "        await google.colab.output.renderOutput(dataTable, element);\n",
              "        const docLink = document.createElement('div');\n",
              "        docLink.innerHTML = docLinkHtml;\n",
              "        element.appendChild(docLink);\n",
              "      }\n",
              "    </script>\n",
              "  </div>\n",
              "\n",
              "\n",
              "<div id=\"df-fe5231c4-4268-4555-8a9e-2f5f4ae05e6b\">\n",
              "  <button class=\"colab-df-quickchart\" onclick=\"quickchart('df-fe5231c4-4268-4555-8a9e-2f5f4ae05e6b')\"\n",
              "            title=\"Suggest charts\"\n",
              "            style=\"display:none;\">\n",
              "\n",
              "<svg xmlns=\"http://www.w3.org/2000/svg\" height=\"24px\"viewBox=\"0 0 24 24\"\n",
              "     width=\"24px\">\n",
              "    <g>\n",
              "        <path d=\"M19 3H5c-1.1 0-2 .9-2 2v14c0 1.1.9 2 2 2h14c1.1 0 2-.9 2-2V5c0-1.1-.9-2-2-2zM9 17H7v-7h2v7zm4 0h-2V7h2v10zm4 0h-2v-4h2v4z\"/>\n",
              "    </g>\n",
              "</svg>\n",
              "  </button>\n",
              "\n",
              "<style>\n",
              "  .colab-df-quickchart {\n",
              "      --bg-color: #E8F0FE;\n",
              "      --fill-color: #1967D2;\n",
              "      --hover-bg-color: #E2EBFA;\n",
              "      --hover-fill-color: #174EA6;\n",
              "      --disabled-fill-color: #AAA;\n",
              "      --disabled-bg-color: #DDD;\n",
              "  }\n",
              "\n",
              "  [theme=dark] .colab-df-quickchart {\n",
              "      --bg-color: #3B4455;\n",
              "      --fill-color: #D2E3FC;\n",
              "      --hover-bg-color: #434B5C;\n",
              "      --hover-fill-color: #FFFFFF;\n",
              "      --disabled-bg-color: #3B4455;\n",
              "      --disabled-fill-color: #666;\n",
              "  }\n",
              "\n",
              "  .colab-df-quickchart {\n",
              "    background-color: var(--bg-color);\n",
              "    border: none;\n",
              "    border-radius: 50%;\n",
              "    cursor: pointer;\n",
              "    display: none;\n",
              "    fill: var(--fill-color);\n",
              "    height: 32px;\n",
              "    padding: 0;\n",
              "    width: 32px;\n",
              "  }\n",
              "\n",
              "  .colab-df-quickchart:hover {\n",
              "    background-color: var(--hover-bg-color);\n",
              "    box-shadow: 0 1px 2px rgba(60, 64, 67, 0.3), 0 1px 3px 1px rgba(60, 64, 67, 0.15);\n",
              "    fill: var(--button-hover-fill-color);\n",
              "  }\n",
              "\n",
              "  .colab-df-quickchart-complete:disabled,\n",
              "  .colab-df-quickchart-complete:disabled:hover {\n",
              "    background-color: var(--disabled-bg-color);\n",
              "    fill: var(--disabled-fill-color);\n",
              "    box-shadow: none;\n",
              "  }\n",
              "\n",
              "  .colab-df-spinner {\n",
              "    border: 2px solid var(--fill-color);\n",
              "    border-color: transparent;\n",
              "    border-bottom-color: var(--fill-color);\n",
              "    animation:\n",
              "      spin 1s steps(1) infinite;\n",
              "  }\n",
              "\n",
              "  @keyframes spin {\n",
              "    0% {\n",
              "      border-color: transparent;\n",
              "      border-bottom-color: var(--fill-color);\n",
              "      border-left-color: var(--fill-color);\n",
              "    }\n",
              "    20% {\n",
              "      border-color: transparent;\n",
              "      border-left-color: var(--fill-color);\n",
              "      border-top-color: var(--fill-color);\n",
              "    }\n",
              "    30% {\n",
              "      border-color: transparent;\n",
              "      border-left-color: var(--fill-color);\n",
              "      border-top-color: var(--fill-color);\n",
              "      border-right-color: var(--fill-color);\n",
              "    }\n",
              "    40% {\n",
              "      border-color: transparent;\n",
              "      border-right-color: var(--fill-color);\n",
              "      border-top-color: var(--fill-color);\n",
              "    }\n",
              "    60% {\n",
              "      border-color: transparent;\n",
              "      border-right-color: var(--fill-color);\n",
              "    }\n",
              "    80% {\n",
              "      border-color: transparent;\n",
              "      border-right-color: var(--fill-color);\n",
              "      border-bottom-color: var(--fill-color);\n",
              "    }\n",
              "    90% {\n",
              "      border-color: transparent;\n",
              "      border-bottom-color: var(--fill-color);\n",
              "    }\n",
              "  }\n",
              "</style>\n",
              "\n",
              "  <script>\n",
              "    async function quickchart(key) {\n",
              "      const quickchartButtonEl =\n",
              "        document.querySelector('#' + key + ' button');\n",
              "      quickchartButtonEl.disabled = true;  // To prevent multiple clicks.\n",
              "      quickchartButtonEl.classList.add('colab-df-spinner');\n",
              "      try {\n",
              "        const charts = await google.colab.kernel.invokeFunction(\n",
              "            'suggestCharts', [key], {});\n",
              "      } catch (error) {\n",
              "        console.error('Error during call to suggestCharts:', error);\n",
              "      }\n",
              "      quickchartButtonEl.classList.remove('colab-df-spinner');\n",
              "      quickchartButtonEl.classList.add('colab-df-quickchart-complete');\n",
              "    }\n",
              "    (() => {\n",
              "      let quickchartButtonEl =\n",
              "        document.querySelector('#df-fe5231c4-4268-4555-8a9e-2f5f4ae05e6b button');\n",
              "      quickchartButtonEl.style.display =\n",
              "        google.colab.kernel.accessAllowed ? 'block' : 'none';\n",
              "    })();\n",
              "  </script>\n",
              "</div>\n",
              "\n",
              "    </div>\n",
              "  </div>\n"
            ],
            "application/vnd.google.colaboratory.intrinsic+json": {
              "type": "dataframe"
            }
          },
          "metadata": {},
          "execution_count": 8
        }
      ],
      "source": [
        "apto_df.sample(5)"
      ]
    },
    {
      "cell_type": "markdown",
      "metadata": {
        "tags": [],
        "id": "cjGaKNtumn6W"
      },
      "source": [
        "## 2. Entendimiento y limpieza de los datos\n",
        "\n",
        "Para entrenar un modelo de regresión todas las variables de entrada (features) deben ser numéricas. Con ayuda de los expertos, se seleccionan las variables numéricas que se consideran más importantes para la estimación de la variable objetivo (target) `Age`. Para este caso se decide prescindir de la variable `Weight` dado que se considera que se puede realizar una estimación más precisa teniendo en cuenta los pesos individuales de sus partes.\n",
        "\n",
        "Adicionalmente, tanto las variables de entrada como la variable objetivo no deben contener valores vacíos. Se decide eliminar los registros que tengan valores vacíos en algunas de estas, dado que el experto recomienda no realizar ninguna imputación.\n",
        "\n",
        "<span style=\"color: red;\">Recuerde que la eliminación de registros debe ser considerada la última opción durante el proceso de limpieza de datos.</span>"
      ]
    },
    {
      "cell_type": "code",
      "source": [
        "apto_df=apto_df[apto_df[\"tipo_operacion\"]==\"VENTA\"]"
      ],
      "metadata": {
        "id": "ShYGyy6IoPyl"
      },
      "execution_count": 12,
      "outputs": []
    },
    {
      "cell_type": "code",
      "source": [
        "apto_df[\"tipo_operacion\"].value_counts()"
      ],
      "metadata": {
        "id": "pwOiHGGKovZa"
      },
      "execution_count": null,
      "outputs": []
    },
    {
      "cell_type": "code",
      "source": [
        "apto_df.sample(5)"
      ],
      "metadata": {
        "colab": {
          "base_uri": "https://localhost:8080/",
          "height": 556
        },
        "id": "MalBQhXppwW6",
        "outputId": "77dba2ab-06a5-42f0-b83c-cd7abbfa181d"
      },
      "execution_count": 18,
      "outputs": [
        {
          "output_type": "execute_result",
          "data": {
            "text/plain": [
              "                            _id          codigo tipo_propiedad tipo_operacion  \\\n",
              "9120   66d86cacceda690e8550ab00   3072-M2704055    APARTAMENTO          VENTA   \n",
              "8694   66d86ca9ceda690e8550a956  14121-M4802505    APARTAMENTO          VENTA   \n",
              "41615  66d86e9eceda690e855129ef   3240-M5158710    APARTAMENTO          VENTA   \n",
              "4364   66d86c8fceda690e8550986c        34-63758    APARTAMENTO          VENTA   \n",
              "641    66d86c80ceda690e855089e1    385-C0003-04    APARTAMENTO          VENTA   \n",
              "\n",
              "       precio_venta   area  habitaciones  banos  administracion  parqueaderos  \\\n",
              "9120  3600000000.00 267.00          3.00   4.00      1677000.00          4.00   \n",
              "8694   450000000.00  77.00          3.00   2.00       315000.00          1.00   \n",
              "41615  810000000.00 130.00          3.00   3.00       539000.00          2.00   \n",
              "4364  3360000000.00 413.00          4.00   5.00      2200000.00          3.00   \n",
              "641    591000000.00  69.58          2.00   2.00             NaN          1.00   \n",
              "\n",
              "                     sector  estrato          antiguedad  latitud  longitud  \\\n",
              "9120                  CHICO     6.00    ENTRE 0 Y 5 ANOS     4.67    -74.05   \n",
              "8694   COLINA Y ALREDEDORES     4.00  ENTRE 10 Y 20 ANOS     4.74    -74.07   \n",
              "41615  COLINA Y ALREDEDORES     5.00   ENTRE 5 Y 10 ANOS     4.73    -74.06   \n",
              "4364                  CHICO     6.00      MAS DE 20 ANOS     4.67    -74.05   \n",
              "641                   OTROS     2.00       PARA ESTRENAR     4.60    -74.07   \n",
              "\n",
              "      direccion                                        descripcion  \\\n",
              "9120        NaN  espectacular apartamento construido por nicola...   \n",
              "8694        NaN  vendo hermoso e iluminado apartamento octavo p...   \n",
              "41615       NaN  excelente pent house esquinero piso 17 en coli...   \n",
              "4364        NaN  excelente apartamento, la mejor ubicacion de b...   \n",
              "641         NaN  exclusivo edificio de 20 apartamentos con arqu...   \n",
              "\n",
              "                 website                last_view                 datetime  \\\n",
              "9120   metrocuadrado.com  2024-07-10 19:11:42.268  2024-07-04 09:01:09.827   \n",
              "8694   metrocuadrado.com  2024-08-13 17:40:02.265  2024-07-04 08:31:39.237   \n",
              "41615  metrocuadrado.com  2024-08-18 16:24:31.074  2024-08-18 16:24:31.074   \n",
              "4364   metrocuadrado.com  2024-07-04 03:35:59.652  2024-07-04 03:35:59.652   \n",
              "641    metrocuadrado.com  2024-08-23 00:22:37.470  2024-07-03 23:39:10.338   \n",
              "\n",
              "       url timeline estado                                   compañia  \\\n",
              "9120   NaN       []  USADO                       INMOBILIARIA FRENCHY   \n",
              "8694   NaN       []  USADO                                    C22INMO   \n",
              "41615  NaN      NaN  USADO  CENTURY 21 TOTAL SERVICES REAL ESTATE SAS   \n",
              "4364   NaN      NaN  USADO               INMOBILIARE - JULIO CORREDOR   \n",
              "641    NaN       []  NUEVO      PROMOTORA DE PROYECTOS ANDALUCIA S.A.   \n",
              "\n",
              "       precio_arriendo  jacuzzi  piso  closets  chimenea  permite_mascotas  \\\n",
              "9120               NaN     0.00   NaN      NaN      0.00              0.00   \n",
              "8694               NaN     0.00   NaN      NaN      0.00              0.00   \n",
              "41615              NaN     0.00   NaN      NaN      0.00              0.00   \n",
              "4364               NaN     0.00   NaN      NaN      0.00              0.00   \n",
              "641                NaN     0.00   NaN      NaN      0.00              0.00   \n",
              "\n",
              "       gimnasio  ascensor  conjunto_cerrado  piscina  salon_comunal  terraza  \\\n",
              "9120       1.00      1.00              1.00     1.00           0.00     0.00   \n",
              "8694       1.00      1.00              1.00     0.00           0.00     0.00   \n",
              "41615      1.00      1.00              1.00     0.00           0.00     0.00   \n",
              "4364       0.00      1.00              0.00     0.00           0.00     0.00   \n",
              "641        0.00      0.00              1.00     0.00           0.00     0.00   \n",
              "\n",
              "       vigilancia  coords_modified   localidad  \\\n",
              "9120         1.00            False   CHAPINERO   \n",
              "8694         1.00            False        SUBA   \n",
              "41615        1.00            False        SUBA   \n",
              "4364         1.00            False   CHAPINERO   \n",
              "641          1.00            False  CANDELARIA   \n",
              "\n",
              "                                     barrio  \\\n",
              "9120                         S.C. EL RETIRO   \n",
              "8694                     EL CORTIJO (FINCA)   \n",
              "41615  SAN JOSE DEL PRADO - URB. ECHEVERRIA   \n",
              "4364                             LA CABRERA   \n",
              "641                             S.C. EGIPTO   \n",
              "\n",
              "                       estacion_tm_cercana  distancia_estacion_tm_m  \\\n",
              "9120                                Héroes                  1327.77   \n",
              "8694                            21 Ángeles                  1523.94   \n",
              "41615  Alcalá – Colegio S. Tomás Dominicos                  1181.25   \n",
              "4364                                Héroes                  1357.90   \n",
              "641                          Museo del Oro                   721.02   \n",
              "\n",
              "       is_cerca_estacion_tm                          parque_cercano  \\\n",
              "9120                      0                 PARQUE ZONAL SAN ANDRÉS   \n",
              "8694                      0                PARQUE ZONAL EL TOMILLAR   \n",
              "41615                     0             PARQUE VECINAL PRADO PINZÓN   \n",
              "4364                      0  PARQUE VECINAL URBANIZACIÓN LA CABRERA   \n",
              "641                       0       PARQUE VECINAL DESARROLLO LOURDES   \n",
              "\n",
              "       distancia_parque_m  is_cerca_parque  \n",
              "9120               360.64                1  \n",
              "8694               609.36                0  \n",
              "41615              843.89                0  \n",
              "4364               336.31                1  \n",
              "641                909.24                0  "
            ],
            "text/html": [
              "\n",
              "  <div id=\"df-d76f3931-60c1-4ded-93f2-0db0d33b1c01\" class=\"colab-df-container\">\n",
              "    <div>\n",
              "<style scoped>\n",
              "    .dataframe tbody tr th:only-of-type {\n",
              "        vertical-align: middle;\n",
              "    }\n",
              "\n",
              "    .dataframe tbody tr th {\n",
              "        vertical-align: top;\n",
              "    }\n",
              "\n",
              "    .dataframe thead th {\n",
              "        text-align: right;\n",
              "    }\n",
              "</style>\n",
              "<table border=\"1\" class=\"dataframe\">\n",
              "  <thead>\n",
              "    <tr style=\"text-align: right;\">\n",
              "      <th></th>\n",
              "      <th>_id</th>\n",
              "      <th>codigo</th>\n",
              "      <th>tipo_propiedad</th>\n",
              "      <th>tipo_operacion</th>\n",
              "      <th>precio_venta</th>\n",
              "      <th>area</th>\n",
              "      <th>habitaciones</th>\n",
              "      <th>banos</th>\n",
              "      <th>administracion</th>\n",
              "      <th>parqueaderos</th>\n",
              "      <th>sector</th>\n",
              "      <th>estrato</th>\n",
              "      <th>antiguedad</th>\n",
              "      <th>latitud</th>\n",
              "      <th>longitud</th>\n",
              "      <th>direccion</th>\n",
              "      <th>descripcion</th>\n",
              "      <th>website</th>\n",
              "      <th>last_view</th>\n",
              "      <th>datetime</th>\n",
              "      <th>url</th>\n",
              "      <th>timeline</th>\n",
              "      <th>estado</th>\n",
              "      <th>compañia</th>\n",
              "      <th>precio_arriendo</th>\n",
              "      <th>jacuzzi</th>\n",
              "      <th>piso</th>\n",
              "      <th>closets</th>\n",
              "      <th>chimenea</th>\n",
              "      <th>permite_mascotas</th>\n",
              "      <th>gimnasio</th>\n",
              "      <th>ascensor</th>\n",
              "      <th>conjunto_cerrado</th>\n",
              "      <th>piscina</th>\n",
              "      <th>salon_comunal</th>\n",
              "      <th>terraza</th>\n",
              "      <th>vigilancia</th>\n",
              "      <th>coords_modified</th>\n",
              "      <th>localidad</th>\n",
              "      <th>barrio</th>\n",
              "      <th>estacion_tm_cercana</th>\n",
              "      <th>distancia_estacion_tm_m</th>\n",
              "      <th>is_cerca_estacion_tm</th>\n",
              "      <th>parque_cercano</th>\n",
              "      <th>distancia_parque_m</th>\n",
              "      <th>is_cerca_parque</th>\n",
              "    </tr>\n",
              "  </thead>\n",
              "  <tbody>\n",
              "    <tr>\n",
              "      <th>9120</th>\n",
              "      <td>66d86cacceda690e8550ab00</td>\n",
              "      <td>3072-M2704055</td>\n",
              "      <td>APARTAMENTO</td>\n",
              "      <td>VENTA</td>\n",
              "      <td>3600000000.00</td>\n",
              "      <td>267.00</td>\n",
              "      <td>3.00</td>\n",
              "      <td>4.00</td>\n",
              "      <td>1677000.00</td>\n",
              "      <td>4.00</td>\n",
              "      <td>CHICO</td>\n",
              "      <td>6.00</td>\n",
              "      <td>ENTRE 0 Y 5 ANOS</td>\n",
              "      <td>4.67</td>\n",
              "      <td>-74.05</td>\n",
              "      <td>NaN</td>\n",
              "      <td>espectacular apartamento construido por nicola...</td>\n",
              "      <td>metrocuadrado.com</td>\n",
              "      <td>2024-07-10 19:11:42.268</td>\n",
              "      <td>2024-07-04 09:01:09.827</td>\n",
              "      <td>NaN</td>\n",
              "      <td>[]</td>\n",
              "      <td>USADO</td>\n",
              "      <td>INMOBILIARIA FRENCHY</td>\n",
              "      <td>NaN</td>\n",
              "      <td>0.00</td>\n",
              "      <td>NaN</td>\n",
              "      <td>NaN</td>\n",
              "      <td>0.00</td>\n",
              "      <td>0.00</td>\n",
              "      <td>1.00</td>\n",
              "      <td>1.00</td>\n",
              "      <td>1.00</td>\n",
              "      <td>1.00</td>\n",
              "      <td>0.00</td>\n",
              "      <td>0.00</td>\n",
              "      <td>1.00</td>\n",
              "      <td>False</td>\n",
              "      <td>CHAPINERO</td>\n",
              "      <td>S.C. EL RETIRO</td>\n",
              "      <td>Héroes</td>\n",
              "      <td>1327.77</td>\n",
              "      <td>0</td>\n",
              "      <td>PARQUE ZONAL SAN ANDRÉS</td>\n",
              "      <td>360.64</td>\n",
              "      <td>1</td>\n",
              "    </tr>\n",
              "    <tr>\n",
              "      <th>8694</th>\n",
              "      <td>66d86ca9ceda690e8550a956</td>\n",
              "      <td>14121-M4802505</td>\n",
              "      <td>APARTAMENTO</td>\n",
              "      <td>VENTA</td>\n",
              "      <td>450000000.00</td>\n",
              "      <td>77.00</td>\n",
              "      <td>3.00</td>\n",
              "      <td>2.00</td>\n",
              "      <td>315000.00</td>\n",
              "      <td>1.00</td>\n",
              "      <td>COLINA Y ALREDEDORES</td>\n",
              "      <td>4.00</td>\n",
              "      <td>ENTRE 10 Y 20 ANOS</td>\n",
              "      <td>4.74</td>\n",
              "      <td>-74.07</td>\n",
              "      <td>NaN</td>\n",
              "      <td>vendo hermoso e iluminado apartamento octavo p...</td>\n",
              "      <td>metrocuadrado.com</td>\n",
              "      <td>2024-08-13 17:40:02.265</td>\n",
              "      <td>2024-07-04 08:31:39.237</td>\n",
              "      <td>NaN</td>\n",
              "      <td>[]</td>\n",
              "      <td>USADO</td>\n",
              "      <td>C22INMO</td>\n",
              "      <td>NaN</td>\n",
              "      <td>0.00</td>\n",
              "      <td>NaN</td>\n",
              "      <td>NaN</td>\n",
              "      <td>0.00</td>\n",
              "      <td>0.00</td>\n",
              "      <td>1.00</td>\n",
              "      <td>1.00</td>\n",
              "      <td>1.00</td>\n",
              "      <td>0.00</td>\n",
              "      <td>0.00</td>\n",
              "      <td>0.00</td>\n",
              "      <td>1.00</td>\n",
              "      <td>False</td>\n",
              "      <td>SUBA</td>\n",
              "      <td>EL CORTIJO (FINCA)</td>\n",
              "      <td>21 Ángeles</td>\n",
              "      <td>1523.94</td>\n",
              "      <td>0</td>\n",
              "      <td>PARQUE ZONAL EL TOMILLAR</td>\n",
              "      <td>609.36</td>\n",
              "      <td>0</td>\n",
              "    </tr>\n",
              "    <tr>\n",
              "      <th>41615</th>\n",
              "      <td>66d86e9eceda690e855129ef</td>\n",
              "      <td>3240-M5158710</td>\n",
              "      <td>APARTAMENTO</td>\n",
              "      <td>VENTA</td>\n",
              "      <td>810000000.00</td>\n",
              "      <td>130.00</td>\n",
              "      <td>3.00</td>\n",
              "      <td>3.00</td>\n",
              "      <td>539000.00</td>\n",
              "      <td>2.00</td>\n",
              "      <td>COLINA Y ALREDEDORES</td>\n",
              "      <td>5.00</td>\n",
              "      <td>ENTRE 5 Y 10 ANOS</td>\n",
              "      <td>4.73</td>\n",
              "      <td>-74.06</td>\n",
              "      <td>NaN</td>\n",
              "      <td>excelente pent house esquinero piso 17 en coli...</td>\n",
              "      <td>metrocuadrado.com</td>\n",
              "      <td>2024-08-18 16:24:31.074</td>\n",
              "      <td>2024-08-18 16:24:31.074</td>\n",
              "      <td>NaN</td>\n",
              "      <td>NaN</td>\n",
              "      <td>USADO</td>\n",
              "      <td>CENTURY 21 TOTAL SERVICES REAL ESTATE SAS</td>\n",
              "      <td>NaN</td>\n",
              "      <td>0.00</td>\n",
              "      <td>NaN</td>\n",
              "      <td>NaN</td>\n",
              "      <td>0.00</td>\n",
              "      <td>0.00</td>\n",
              "      <td>1.00</td>\n",
              "      <td>1.00</td>\n",
              "      <td>1.00</td>\n",
              "      <td>0.00</td>\n",
              "      <td>0.00</td>\n",
              "      <td>0.00</td>\n",
              "      <td>1.00</td>\n",
              "      <td>False</td>\n",
              "      <td>SUBA</td>\n",
              "      <td>SAN JOSE DEL PRADO - URB. ECHEVERRIA</td>\n",
              "      <td>Alcalá – Colegio S. Tomás Dominicos</td>\n",
              "      <td>1181.25</td>\n",
              "      <td>0</td>\n",
              "      <td>PARQUE VECINAL PRADO PINZÓN</td>\n",
              "      <td>843.89</td>\n",
              "      <td>0</td>\n",
              "    </tr>\n",
              "    <tr>\n",
              "      <th>4364</th>\n",
              "      <td>66d86c8fceda690e8550986c</td>\n",
              "      <td>34-63758</td>\n",
              "      <td>APARTAMENTO</td>\n",
              "      <td>VENTA</td>\n",
              "      <td>3360000000.00</td>\n",
              "      <td>413.00</td>\n",
              "      <td>4.00</td>\n",
              "      <td>5.00</td>\n",
              "      <td>2200000.00</td>\n",
              "      <td>3.00</td>\n",
              "      <td>CHICO</td>\n",
              "      <td>6.00</td>\n",
              "      <td>MAS DE 20 ANOS</td>\n",
              "      <td>4.67</td>\n",
              "      <td>-74.05</td>\n",
              "      <td>NaN</td>\n",
              "      <td>excelente apartamento, la mejor ubicacion de b...</td>\n",
              "      <td>metrocuadrado.com</td>\n",
              "      <td>2024-07-04 03:35:59.652</td>\n",
              "      <td>2024-07-04 03:35:59.652</td>\n",
              "      <td>NaN</td>\n",
              "      <td>NaN</td>\n",
              "      <td>USADO</td>\n",
              "      <td>INMOBILIARE - JULIO CORREDOR</td>\n",
              "      <td>NaN</td>\n",
              "      <td>0.00</td>\n",
              "      <td>NaN</td>\n",
              "      <td>NaN</td>\n",
              "      <td>0.00</td>\n",
              "      <td>0.00</td>\n",
              "      <td>0.00</td>\n",
              "      <td>1.00</td>\n",
              "      <td>0.00</td>\n",
              "      <td>0.00</td>\n",
              "      <td>0.00</td>\n",
              "      <td>0.00</td>\n",
              "      <td>1.00</td>\n",
              "      <td>False</td>\n",
              "      <td>CHAPINERO</td>\n",
              "      <td>LA CABRERA</td>\n",
              "      <td>Héroes</td>\n",
              "      <td>1357.90</td>\n",
              "      <td>0</td>\n",
              "      <td>PARQUE VECINAL URBANIZACIÓN LA CABRERA</td>\n",
              "      <td>336.31</td>\n",
              "      <td>1</td>\n",
              "    </tr>\n",
              "    <tr>\n",
              "      <th>641</th>\n",
              "      <td>66d86c80ceda690e855089e1</td>\n",
              "      <td>385-C0003-04</td>\n",
              "      <td>APARTAMENTO</td>\n",
              "      <td>VENTA</td>\n",
              "      <td>591000000.00</td>\n",
              "      <td>69.58</td>\n",
              "      <td>2.00</td>\n",
              "      <td>2.00</td>\n",
              "      <td>NaN</td>\n",
              "      <td>1.00</td>\n",
              "      <td>OTROS</td>\n",
              "      <td>2.00</td>\n",
              "      <td>PARA ESTRENAR</td>\n",
              "      <td>4.60</td>\n",
              "      <td>-74.07</td>\n",
              "      <td>NaN</td>\n",
              "      <td>exclusivo edificio de 20 apartamentos con arqu...</td>\n",
              "      <td>metrocuadrado.com</td>\n",
              "      <td>2024-08-23 00:22:37.470</td>\n",
              "      <td>2024-07-03 23:39:10.338</td>\n",
              "      <td>NaN</td>\n",
              "      <td>[]</td>\n",
              "      <td>NUEVO</td>\n",
              "      <td>PROMOTORA DE PROYECTOS ANDALUCIA S.A.</td>\n",
              "      <td>NaN</td>\n",
              "      <td>0.00</td>\n",
              "      <td>NaN</td>\n",
              "      <td>NaN</td>\n",
              "      <td>0.00</td>\n",
              "      <td>0.00</td>\n",
              "      <td>0.00</td>\n",
              "      <td>0.00</td>\n",
              "      <td>1.00</td>\n",
              "      <td>0.00</td>\n",
              "      <td>0.00</td>\n",
              "      <td>0.00</td>\n",
              "      <td>1.00</td>\n",
              "      <td>False</td>\n",
              "      <td>CANDELARIA</td>\n",
              "      <td>S.C. EGIPTO</td>\n",
              "      <td>Museo del Oro</td>\n",
              "      <td>721.02</td>\n",
              "      <td>0</td>\n",
              "      <td>PARQUE VECINAL DESARROLLO LOURDES</td>\n",
              "      <td>909.24</td>\n",
              "      <td>0</td>\n",
              "    </tr>\n",
              "  </tbody>\n",
              "</table>\n",
              "</div>\n",
              "    <div class=\"colab-df-buttons\">\n",
              "\n",
              "  <div class=\"colab-df-container\">\n",
              "    <button class=\"colab-df-convert\" onclick=\"convertToInteractive('df-d76f3931-60c1-4ded-93f2-0db0d33b1c01')\"\n",
              "            title=\"Convert this dataframe to an interactive table.\"\n",
              "            style=\"display:none;\">\n",
              "\n",
              "  <svg xmlns=\"http://www.w3.org/2000/svg\" height=\"24px\" viewBox=\"0 -960 960 960\">\n",
              "    <path d=\"M120-120v-720h720v720H120Zm60-500h600v-160H180v160Zm220 220h160v-160H400v160Zm0 220h160v-160H400v160ZM180-400h160v-160H180v160Zm440 0h160v-160H620v160ZM180-180h160v-160H180v160Zm440 0h160v-160H620v160Z\"/>\n",
              "  </svg>\n",
              "    </button>\n",
              "\n",
              "  <style>\n",
              "    .colab-df-container {\n",
              "      display:flex;\n",
              "      gap: 12px;\n",
              "    }\n",
              "\n",
              "    .colab-df-convert {\n",
              "      background-color: #E8F0FE;\n",
              "      border: none;\n",
              "      border-radius: 50%;\n",
              "      cursor: pointer;\n",
              "      display: none;\n",
              "      fill: #1967D2;\n",
              "      height: 32px;\n",
              "      padding: 0 0 0 0;\n",
              "      width: 32px;\n",
              "    }\n",
              "\n",
              "    .colab-df-convert:hover {\n",
              "      background-color: #E2EBFA;\n",
              "      box-shadow: 0px 1px 2px rgba(60, 64, 67, 0.3), 0px 1px 3px 1px rgba(60, 64, 67, 0.15);\n",
              "      fill: #174EA6;\n",
              "    }\n",
              "\n",
              "    .colab-df-buttons div {\n",
              "      margin-bottom: 4px;\n",
              "    }\n",
              "\n",
              "    [theme=dark] .colab-df-convert {\n",
              "      background-color: #3B4455;\n",
              "      fill: #D2E3FC;\n",
              "    }\n",
              "\n",
              "    [theme=dark] .colab-df-convert:hover {\n",
              "      background-color: #434B5C;\n",
              "      box-shadow: 0px 1px 3px 1px rgba(0, 0, 0, 0.15);\n",
              "      filter: drop-shadow(0px 1px 2px rgba(0, 0, 0, 0.3));\n",
              "      fill: #FFFFFF;\n",
              "    }\n",
              "  </style>\n",
              "\n",
              "    <script>\n",
              "      const buttonEl =\n",
              "        document.querySelector('#df-d76f3931-60c1-4ded-93f2-0db0d33b1c01 button.colab-df-convert');\n",
              "      buttonEl.style.display =\n",
              "        google.colab.kernel.accessAllowed ? 'block' : 'none';\n",
              "\n",
              "      async function convertToInteractive(key) {\n",
              "        const element = document.querySelector('#df-d76f3931-60c1-4ded-93f2-0db0d33b1c01');\n",
              "        const dataTable =\n",
              "          await google.colab.kernel.invokeFunction('convertToInteractive',\n",
              "                                                    [key], {});\n",
              "        if (!dataTable) return;\n",
              "\n",
              "        const docLinkHtml = 'Like what you see? Visit the ' +\n",
              "          '<a target=\"_blank\" href=https://colab.research.google.com/notebooks/data_table.ipynb>data table notebook</a>'\n",
              "          + ' to learn more about interactive tables.';\n",
              "        element.innerHTML = '';\n",
              "        dataTable['output_type'] = 'display_data';\n",
              "        await google.colab.output.renderOutput(dataTable, element);\n",
              "        const docLink = document.createElement('div');\n",
              "        docLink.innerHTML = docLinkHtml;\n",
              "        element.appendChild(docLink);\n",
              "      }\n",
              "    </script>\n",
              "  </div>\n",
              "\n",
              "\n",
              "<div id=\"df-fd1ad644-6fb6-4c3f-9994-e2abdee9bbac\">\n",
              "  <button class=\"colab-df-quickchart\" onclick=\"quickchart('df-fd1ad644-6fb6-4c3f-9994-e2abdee9bbac')\"\n",
              "            title=\"Suggest charts\"\n",
              "            style=\"display:none;\">\n",
              "\n",
              "<svg xmlns=\"http://www.w3.org/2000/svg\" height=\"24px\"viewBox=\"0 0 24 24\"\n",
              "     width=\"24px\">\n",
              "    <g>\n",
              "        <path d=\"M19 3H5c-1.1 0-2 .9-2 2v14c0 1.1.9 2 2 2h14c1.1 0 2-.9 2-2V5c0-1.1-.9-2-2-2zM9 17H7v-7h2v7zm4 0h-2V7h2v10zm4 0h-2v-4h2v4z\"/>\n",
              "    </g>\n",
              "</svg>\n",
              "  </button>\n",
              "\n",
              "<style>\n",
              "  .colab-df-quickchart {\n",
              "      --bg-color: #E8F0FE;\n",
              "      --fill-color: #1967D2;\n",
              "      --hover-bg-color: #E2EBFA;\n",
              "      --hover-fill-color: #174EA6;\n",
              "      --disabled-fill-color: #AAA;\n",
              "      --disabled-bg-color: #DDD;\n",
              "  }\n",
              "\n",
              "  [theme=dark] .colab-df-quickchart {\n",
              "      --bg-color: #3B4455;\n",
              "      --fill-color: #D2E3FC;\n",
              "      --hover-bg-color: #434B5C;\n",
              "      --hover-fill-color: #FFFFFF;\n",
              "      --disabled-bg-color: #3B4455;\n",
              "      --disabled-fill-color: #666;\n",
              "  }\n",
              "\n",
              "  .colab-df-quickchart {\n",
              "    background-color: var(--bg-color);\n",
              "    border: none;\n",
              "    border-radius: 50%;\n",
              "    cursor: pointer;\n",
              "    display: none;\n",
              "    fill: var(--fill-color);\n",
              "    height: 32px;\n",
              "    padding: 0;\n",
              "    width: 32px;\n",
              "  }\n",
              "\n",
              "  .colab-df-quickchart:hover {\n",
              "    background-color: var(--hover-bg-color);\n",
              "    box-shadow: 0 1px 2px rgba(60, 64, 67, 0.3), 0 1px 3px 1px rgba(60, 64, 67, 0.15);\n",
              "    fill: var(--button-hover-fill-color);\n",
              "  }\n",
              "\n",
              "  .colab-df-quickchart-complete:disabled,\n",
              "  .colab-df-quickchart-complete:disabled:hover {\n",
              "    background-color: var(--disabled-bg-color);\n",
              "    fill: var(--disabled-fill-color);\n",
              "    box-shadow: none;\n",
              "  }\n",
              "\n",
              "  .colab-df-spinner {\n",
              "    border: 2px solid var(--fill-color);\n",
              "    border-color: transparent;\n",
              "    border-bottom-color: var(--fill-color);\n",
              "    animation:\n",
              "      spin 1s steps(1) infinite;\n",
              "  }\n",
              "\n",
              "  @keyframes spin {\n",
              "    0% {\n",
              "      border-color: transparent;\n",
              "      border-bottom-color: var(--fill-color);\n",
              "      border-left-color: var(--fill-color);\n",
              "    }\n",
              "    20% {\n",
              "      border-color: transparent;\n",
              "      border-left-color: var(--fill-color);\n",
              "      border-top-color: var(--fill-color);\n",
              "    }\n",
              "    30% {\n",
              "      border-color: transparent;\n",
              "      border-left-color: var(--fill-color);\n",
              "      border-top-color: var(--fill-color);\n",
              "      border-right-color: var(--fill-color);\n",
              "    }\n",
              "    40% {\n",
              "      border-color: transparent;\n",
              "      border-right-color: var(--fill-color);\n",
              "      border-top-color: var(--fill-color);\n",
              "    }\n",
              "    60% {\n",
              "      border-color: transparent;\n",
              "      border-right-color: var(--fill-color);\n",
              "    }\n",
              "    80% {\n",
              "      border-color: transparent;\n",
              "      border-right-color: var(--fill-color);\n",
              "      border-bottom-color: var(--fill-color);\n",
              "    }\n",
              "    90% {\n",
              "      border-color: transparent;\n",
              "      border-bottom-color: var(--fill-color);\n",
              "    }\n",
              "  }\n",
              "</style>\n",
              "\n",
              "  <script>\n",
              "    async function quickchart(key) {\n",
              "      const quickchartButtonEl =\n",
              "        document.querySelector('#' + key + ' button');\n",
              "      quickchartButtonEl.disabled = true;  // To prevent multiple clicks.\n",
              "      quickchartButtonEl.classList.add('colab-df-spinner');\n",
              "      try {\n",
              "        const charts = await google.colab.kernel.invokeFunction(\n",
              "            'suggestCharts', [key], {});\n",
              "      } catch (error) {\n",
              "        console.error('Error during call to suggestCharts:', error);\n",
              "      }\n",
              "      quickchartButtonEl.classList.remove('colab-df-spinner');\n",
              "      quickchartButtonEl.classList.add('colab-df-quickchart-complete');\n",
              "    }\n",
              "    (() => {\n",
              "      let quickchartButtonEl =\n",
              "        document.querySelector('#df-fd1ad644-6fb6-4c3f-9994-e2abdee9bbac button');\n",
              "      quickchartButtonEl.style.display =\n",
              "        google.colab.kernel.accessAllowed ? 'block' : 'none';\n",
              "    })();\n",
              "  </script>\n",
              "</div>\n",
              "\n",
              "    </div>\n",
              "  </div>\n"
            ],
            "application/vnd.google.colaboratory.intrinsic+json": {
              "type": "dataframe"
            }
          },
          "metadata": {},
          "execution_count": 18
        }
      ]
    },
    {
      "cell_type": "code",
      "execution_count": null,
      "metadata": {
        "id": "FZMgiQgRmn6X"
      },
      "outputs": [],
      "source": [
        "features = [\"Length\", \"Diameter\", \"Height\", \"Shucked Weight\", \"Viscera Weight\", \"Shell Weight\"]"
      ]
    },
    {
      "cell_type": "code",
      "execution_count": null,
      "metadata": {
        "id": "jIJGuMSSmn6Y"
      },
      "outputs": [],
      "source": [
        "crabs_df[[\"Age\"]+features].isnull().sum() / crabs_df.shape[0]"
      ]
    },
    {
      "cell_type": "code",
      "execution_count": null,
      "metadata": {
        "id": "EuSuAEjimn6Y"
      },
      "outputs": [],
      "source": [
        "crabs_df = crabs_df.dropna(subset=[\"Age\"]+features)"
      ]
    },
    {
      "cell_type": "code",
      "execution_count": null,
      "metadata": {
        "id": "-Yw5sWSImn6Z"
      },
      "outputs": [],
      "source": [
        "crabs_df.shape"
      ]
    },
    {
      "cell_type": "code",
      "execution_count": null,
      "metadata": {
        "id": "3xp7cAWnmn6Z"
      },
      "outputs": [],
      "source": [
        "crabs_df[[\"Age\"]+features].isnull().sum() / crabs_df.shape[0]"
      ]
    },
    {
      "cell_type": "markdown",
      "metadata": {
        "id": "4KToGePqmn6a"
      },
      "source": [
        "### 2.1. Búsqueda de relaciones con la variable objetivo\n",
        "\n",
        "Si se logra visualizar o cuantificar altas correlaciones entre las variables de entrada y la variable objetivo, se podrán soportar las decisiones del experto con base en la evidencia."
      ]
    },
    {
      "cell_type": "code",
      "execution_count": null,
      "metadata": {
        "id": "SHhptgMAmn6a"
      },
      "outputs": [],
      "source": [
        "sns.pairplot(crabs_df.sample(frac=0.2), height=4, y_vars=\"Age\", x_vars=features, kind=\"scatter\")"
      ]
    },
    {
      "cell_type": "markdown",
      "metadata": {
        "id": "GmONxfD3mn6b"
      },
      "source": [
        "### 2.2. Búsqueda de relaciones entre las variables de entrada\n",
        "\n",
        "**Importante:** La regresión lineal asume que sus variables de entrada no se encuentran altamente correlacionados."
      ]
    },
    {
      "cell_type": "code",
      "execution_count": null,
      "metadata": {
        "id": "tAIwk0fGmn6b"
      },
      "outputs": [],
      "source": [
        "plt.figure(figsize=(12, 10))\n",
        "sns.heatmap(crabs_df[features].corr(), cmap=\"Blues\", vmin=0, vmax=1)"
      ]
    },
    {
      "cell_type": "markdown",
      "metadata": {
        "id": "Yocq9bYtmn6b"
      },
      "source": [
        "Un buen punto de corte (empírico) para decidir si descartar una variable debido a su alta correlación con otra es ~$|0.8|$. Este análisis se retomará más adelante durante la comprobación de supuestos."
      ]
    },
    {
      "cell_type": "markdown",
      "metadata": {
        "tags": [],
        "id": "0qrCtv9Zmn6b"
      },
      "source": [
        "## 3. Prepración de datos"
      ]
    },
    {
      "cell_type": "markdown",
      "metadata": {
        "id": "Ra-t_ZIPmn6b"
      },
      "source": [
        "Por lo general, en el Machine Learning supervisado también suele ser común verificar si existen registros duplicados, particularmente para el conjunto de variables de entrada y variable objetivo. Mantener registros duplicados, aún sin considerarse un problema de calidad de los datos, ocasionará que durante el proceso de aprendizaje el algoritmo otorgue de forma errónea un peso mayor a estos registros duplicados."
      ]
    },
    {
      "cell_type": "code",
      "execution_count": null,
      "metadata": {
        "id": "_xknKsuemn6c"
      },
      "outputs": [],
      "source": [
        "total_rows = crabs_df.shape[0]\n",
        "total_rows"
      ]
    },
    {
      "cell_type": "code",
      "execution_count": null,
      "metadata": {
        "id": "g58vhSepmn6e"
      },
      "outputs": [],
      "source": [
        "crabs_df.loc[crabs_df.duplicated(subset=features, keep=False)].head(3)"
      ]
    },
    {
      "cell_type": "code",
      "execution_count": null,
      "metadata": {
        "id": "oWoFLWeTmn6e"
      },
      "outputs": [],
      "source": [
        "duplicated_rows = crabs_df.loc[crabs_df.duplicated(subset=features, keep=False)].shape[0]\n",
        "duplicated_rows"
      ]
    },
    {
      "cell_type": "code",
      "execution_count": null,
      "metadata": {
        "id": "JqYCH1Ikmn6f"
      },
      "outputs": [],
      "source": [
        "print(f\"Duplicates: {(duplicated_rows/total_rows)*100:.4f}%\")"
      ]
    },
    {
      "cell_type": "code",
      "execution_count": null,
      "metadata": {
        "id": "YS8Ndlbimn6f"
      },
      "outputs": [],
      "source": [
        "crabs_df.loc[crabs_df.duplicated(subset=features+[\"Age\"], keep=False)].tail(4)"
      ]
    },
    {
      "cell_type": "code",
      "execution_count": null,
      "metadata": {
        "id": "Q4PrEMhKmn6f"
      },
      "outputs": [],
      "source": [
        "duplicated_rows = crabs_df.loc[crabs_df.duplicated(subset=features+[\"Age\"], keep=False)].shape[0]\n",
        "duplicated_rows"
      ]
    },
    {
      "cell_type": "code",
      "execution_count": null,
      "metadata": {
        "id": "kIHrQTs-mn6g"
      },
      "outputs": [],
      "source": [
        "print(f\"Duplicates: {(duplicated_rows/total_rows)*100:.4f}%\")"
      ]
    },
    {
      "cell_type": "markdown",
      "metadata": {
        "id": "_OiCbt-Cmn6g"
      },
      "source": [
        "Aquí hay dos escenarios a analizar:\n",
        "1. Existe un ~0.49% de registros con variables de entrada duplicadas, incluso con variable objetivo diferente. Una cantidad no muy preocupante pero que, en términos generales, requeriría de un proceso complementario de limpieza de datos para evitar confundir al modelo al momento de aprender la función de estimación.\n",
        "2. Al incluir la variable objetivo dentro del análisis de duplicados, se obtiene el 0.2% registros duplicados adicionales. Para un porcentaje mayor esto representaría potencialmente otro problema obligando al algoritmo de optimización a enfocarse más en aquellos registros duplicados en lugar de ponderar todos los registros por igual."
      ]
    },
    {
      "cell_type": "code",
      "execution_count": null,
      "metadata": {
        "id": "2znFdK8mmn6g"
      },
      "outputs": [],
      "source": [
        "crabs_df.drop_duplicates(subset=features, inplace=True)\n",
        "crabs_df.drop_duplicates(subset=features+[\"Age\"], inplace=True)"
      ]
    },
    {
      "cell_type": "code",
      "execution_count": null,
      "metadata": {
        "id": "gcjYN8pbmn6h"
      },
      "outputs": [],
      "source": [
        "crabs_df.shape"
      ]
    },
    {
      "cell_type": "markdown",
      "metadata": {
        "tags": [],
        "id": "2wFdKP4Ymn6h"
      },
      "source": [
        "## 4. Particionamiento del conjunto de datos en entrenamiento y prueba\n",
        "\n",
        "Se desea construir un modelo que se ajuste bien a los datos de entrenamiento, pero que además se comporte de forma similar con datos previamente desconocidos.\n",
        "\n",
        "Metodológicamente, una práctica común para validar esto es separando el conjunto de datos etiquetado en dos partes: entrenamiento y prueba. La proporción reservada para probar el modelo es definida por el analista, pero un valor común es 30%."
      ]
    },
    {
      "cell_type": "code",
      "execution_count": null,
      "metadata": {
        "id": "F3w5CHQfmn6h"
      },
      "outputs": [],
      "source": [
        "X_train, X_test, y_train, y_test = train_test_split(crabs_df[features], crabs_df[\"Age\"], test_size=0.3, random_state=1)"
      ]
    },
    {
      "cell_type": "code",
      "execution_count": null,
      "metadata": {
        "id": "bhYFzU1mmn6h"
      },
      "outputs": [],
      "source": [
        "X_train.shape, y_train.shape"
      ]
    },
    {
      "cell_type": "code",
      "execution_count": null,
      "metadata": {
        "id": "b2JEob7Pmn6h"
      },
      "outputs": [],
      "source": [
        "X_test.shape, y_test.shape"
      ]
    },
    {
      "cell_type": "markdown",
      "metadata": {
        "tags": [],
        "id": "fkvTDXq_mn6h"
      },
      "source": [
        "## 5. Entrenamiento de un primer modelo de regresión lineal\n",
        "\n",
        "Se deice que la regresión es lineal dado que se asume una relación lineal entre las variables de entrada (features) y la variable objetivo (target).\n",
        "\n",
        "En Scikit-Learn existen varias formas de implementar el algoritmo de regresión lieal, pero dado que el objetivo de esta practica esta enfocado en el análisis del modelo resultante y no tanto del algoritmo o del proceso de entrenamiento, se utilizará la implementación más sencilla dada por la clase LinearRegression."
      ]
    },
    {
      "cell_type": "code",
      "execution_count": null,
      "metadata": {
        "id": "sUBTHT84mn6i"
      },
      "outputs": [],
      "source": [
        "regression = LinearRegression()"
      ]
    },
    {
      "cell_type": "code",
      "execution_count": null,
      "metadata": {
        "id": "PkZG7ihJmn6i"
      },
      "outputs": [],
      "source": [
        "regression.fit(X_train, y_train)"
      ]
    },
    {
      "cell_type": "markdown",
      "metadata": {
        "id": "b_WZxO39mn6i"
      },
      "source": [
        "### 4.1. Interpretación de los coeficientes y del intercepto\n",
        "\n",
        "Los coeficientes de la regresión brindan una intuición del impacto o la fuerza de una variable de entrada en la predicción/estimación de la variable objetivo."
      ]
    },
    {
      "cell_type": "code",
      "execution_count": null,
      "metadata": {
        "id": "DJdtHDizmn6i"
      },
      "outputs": [],
      "source": [
        "pd.DataFrame({\"columns\": features, \"coef\": regression.coef_})"
      ]
    },
    {
      "cell_type": "code",
      "execution_count": null,
      "metadata": {
        "id": "NpInSJXrmn6j"
      },
      "outputs": [],
      "source": [
        "regression.intercept_"
      ]
    },
    {
      "cell_type": "code",
      "execution_count": null,
      "metadata": {
        "id": "02dXzOZqmn6j"
      },
      "outputs": [],
      "source": [
        "f, axs = plt.subplots(1, len(features), sharey=True, figsize=(20, 4))\n",
        "\n",
        "for i in range(len(features)):\n",
        "    col = features[i]\n",
        "    x = X_train[col]\n",
        "    m = regression.coef_[i]\n",
        "    b = regression.intercept_\n",
        "\n",
        "    axs[i].plot(x, y_train, \"o\", alpha=0.1)\n",
        "    axs[i].plot(x, x * m + b)\n",
        "    axs[i].set_title(col)"
      ]
    },
    {
      "cell_type": "markdown",
      "metadata": {
        "id": "Sd7yXT6Cmn6j"
      },
      "source": [
        "Recuerde que el modelo de regresión lineal para este caso particular está dado de la forma\n",
        "\n",
        "$$ y = {\\beta_{0} + \\beta_{1}x_{1} + \\beta_{2}x_{2} + \\beta_{3}x_{3} + \\beta_{4}x_{4} + \\beta_{5}x_{5}} $$\n",
        "\n",
        "siendo $\\beta_{0}$ el intercepto (bias) y $\\beta_{1}$, $\\beta_{2}$, $\\beta_{3}$, $\\beta_{4}$ y $\\beta_{5}$ los coeficientes o parámetros correspondientes a las variables de entrada en el mismo orden.\n",
        "\n",
        "Tenga en cuenta que:\n",
        "1) El signo del coeficiente representa la dirección de la relación entre la variable de entrada correspondiente y la variable objetivo. Signos positivos implican que si el valor de la variable de entada aumenta, el valor de la variable objetivo también aumentará, mientras que signos negativos indican que si el valor de la variable de entrada aumenta, el valor de la variable objetivo disminuirá.\n",
        "2) El valor del coeficiente cuantifica la magnitud de la relación, implicando que un aumento o disminución (dependiendo del signo del coeficiente) en una unidad de la variable de entrada representará un cambio equivalente al valor del coeficiente en la variable objetivo, asumiendo que los valores de las demás variables de entrada permanezcan constantes.\n",
        "\n",
        "**Ejemplo:**\n",
        "\n",
        "Haciendo énfasis en `valence`, se sabe que cada cambio unitario en esta variable tendrá un impacto porcentual equivalente a ~11.4% en la variable objetivo, asumiendo que los valores de las demás variables permanecen constantes."
      ]
    },
    {
      "cell_type": "code",
      "execution_count": null,
      "metadata": {
        "id": "Ph9e-lyrmn6j"
      },
      "outputs": [],
      "source": [
        "# Dado que `Diameter` se encuentra en el rango de 0 a 1, se simula un cambio de 0.1 múltiples veces para un mismo registro\n",
        "# Siendo el incremento de apenas 1/10 de unidad, se espera un cambio en la estimación de la variable objetivo de ~0.57%\n",
        "df = pd.concat([crabs_df[features].iloc[0:1]] * 5).reset_index()\n",
        "df[\"Diameter\"] = df[\"Diameter\"] + (df.index / 10)\n",
        "df[\"prediction\"] = regression.predict(df[features])\n",
        "df[\"% change\"] = df[\"prediction\"].diff()\n",
        "df"
      ]
    },
    {
      "cell_type": "markdown",
      "metadata": {
        "id": "YeB5JZEEmn6j"
      },
      "source": [
        "Aún cuando el cambio en la variable objetivo es el esperado, note que las variables de entrada no se encuentran en la misma escala, rangos o grados de magnitud. Debido a esto, las magnitudes o valores de los coeficientes no son directamente comparables entre sí, es decir, no es posible decir por ejemplo que `Diameter` tiene un impacto mayor que `Shell Weight` en la estimación de la edad de un cangrejo. Aunque si se puede decir que `Length` tiene un impacto negativo en la estimación.\n",
        "\n",
        "Por otro lado, el intercepto puede ser útil para determinar un valor de base en la estimación, en este caso una edad mínima bajo el supuesto de que pudiera existir un cangrejo con todas sus variables de entrada iguales a cero."
      ]
    },
    {
      "cell_type": "markdown",
      "metadata": {
        "id": "282Ux2jzmn6k"
      },
      "source": [
        "### 4.2. Validación (evaluación) del modelo\n",
        "\n",
        "La forma más básica para saber que tan bien se comporta el modelo es midiendo que tanto se alejan las estimaciones o predicciones del mismo respecto a la variable objetivo real. Esta medición se puede hacer tanto para el conjunto de datos de entrenamiento como para el de prueba."
      ]
    },
    {
      "cell_type": "markdown",
      "metadata": {
        "tags": [],
        "id": "S1rscKy2mn6l"
      },
      "source": [
        "**Mean Absolute Error (MAE)**\n",
        "\n",
        "$$ MAE = {1 \\over n}{\\sum_{i=1}^n {|y_{i} - y_{i}'|} } $$"
      ]
    },
    {
      "cell_type": "code",
      "execution_count": null,
      "metadata": {
        "id": "cC9H4pA1mn6l"
      },
      "outputs": [],
      "source": [
        "print(\"Train:\", mean_absolute_error(y_train, regression.predict(X_train)))\n",
        "print(\"Test:\", mean_absolute_error(y_test, regression.predict(X_test)))"
      ]
    },
    {
      "cell_type": "markdown",
      "metadata": {
        "id": "KyF7mCRGmn6l"
      },
      "source": [
        "**Root Mean Squeared Error (RMSE)**\n",
        "\n",
        "$$ RMSE = {1 \\over n}{\\sum_{i=1}^n {(y_{i} - y_{i}')^2} } $$"
      ]
    },
    {
      "cell_type": "code",
      "execution_count": null,
      "metadata": {
        "id": "dJnte5J7mn6m"
      },
      "outputs": [],
      "source": [
        "print(\"Train:\", np.sqrt(mean_squared_error(y_train, regression.predict(X_train))))\n",
        "print(\"Test:\", np.sqrt(mean_squared_error(y_test, regression.predict(X_test))))"
      ]
    },
    {
      "cell_type": "markdown",
      "metadata": {
        "id": "oPCJYt7Cmn6m"
      },
      "source": [
        "**Análisis del error**"
      ]
    },
    {
      "cell_type": "code",
      "execution_count": null,
      "metadata": {
        "id": "w2kXtUtTmn6m"
      },
      "outputs": [],
      "source": [
        "plt.figure(figsize=(20, 3))\n",
        "sns.boxplot(x=y_test, showmeans=True, orient=\"h\")\n",
        "plt.title(\"Valor real de $\\t{Age}$ en el conjunto de prueba\")\n",
        "plt.grid()\n",
        "plt.show()"
      ]
    },
    {
      "cell_type": "code",
      "execution_count": null,
      "metadata": {
        "id": "Z3Y7ADPZmn6m"
      },
      "outputs": [],
      "source": [
        "y_test.describe(percentiles=[0.25, 0.5, 0.75, 0.99])"
      ]
    },
    {
      "cell_type": "markdown",
      "metadata": {
        "id": "Z_Hg6Qalmn6m"
      },
      "source": [
        "Aún cuando `Age` se mueve en el rango de 3 a 27, la mayoría de sus posibles valores se encuentran entre 5 y 15. Tener esto claro es importante para determinar que tan grande o que tan bajo es el error promedio respecto a la variable objetivo."
      ]
    },
    {
      "cell_type": "code",
      "execution_count": null,
      "metadata": {
        "id": "AhKpx729mn6m"
      },
      "outputs": [],
      "source": [
        "plt.figure(figsize=(20, 3))\n",
        "sns.boxplot(x=abs(y_test - regression.predict(X_test)), showmeans=True, orient=\"h\")\n",
        "plt.title(\"|Valor real - Valor estimado| de $\\t{Age}$\")\n",
        "plt.xlabel(\"Error\")\n",
        "plt.grid()\n",
        "plt.show()"
      ]
    },
    {
      "cell_type": "code",
      "execution_count": null,
      "metadata": {
        "id": "-ozDrPDzmn6n"
      },
      "outputs": [],
      "source": [
        "abs(y_test-regression.predict(X_test)).describe(percentiles=[0.25, 0.5, 0.75, 0.95, 0.99])"
      ]
    },
    {
      "cell_type": "markdown",
      "metadata": {
        "id": "6KFu7yNfmn6n"
      },
      "source": [
        "Se podría decir que los resultados de este primer modelo son aceptables dado que:\n",
        "1) Las métricas de error para el dataset de entrenamiento y prueba son muy similares. No se evidencian problemas de sobreajuste (overfitting).\n",
        "2) Para el conjunto de prueba los valores de la variable objetivo están centrados en $9.8 \\pm 3.1$, mientras que el 75% de los errores de estimación del modelo se encuentran por debajo de 2.1, muy por debajo de una desviación estándar.\n",
        "\n",
        "Un análisis del error más profundo implicaría, por ejemplo, identificar si el problema mayor se encuentra en la subestimación o la sobreestimación de la edad, así como ganar mayor intuición de cuales son los casos particulares en los que el modelo se equivoca más."
      ]
    },
    {
      "cell_type": "markdown",
      "metadata": {
        "tags": [],
        "id": "pP-U14Uumn6n"
      },
      "source": [
        "## 6. Entrenamiento de un segundo modelo aplicando normalización\n",
        "\n",
        "Scikit-Learn permite integrar el proceso de normalización de features dentro de los procesos de entrenamiento y predicción de los modelos mediante el uso de Pipelines. Un Pipeline permite ejecutar de forma secuencial un conjunto de transformaciones de datos, selección de variables, entre otros, seguido del paso de entrenamiento o predicción.\n",
        "\n",
        "La documentación oficial de Pipelines se puede encontrar aquí: https://scikit-learn.org/stable/modules/compose.html."
      ]
    },
    {
      "cell_type": "code",
      "execution_count": null,
      "metadata": {
        "id": "Nbm0Txmxmn6n"
      },
      "outputs": [],
      "source": [
        "pipeline = Pipeline(\n",
        "    [\n",
        "        (\"scaler\", StandardScaler()),\n",
        "        (\"model\", LinearRegression())\n",
        "    ]\n",
        ")"
      ]
    },
    {
      "cell_type": "code",
      "execution_count": null,
      "metadata": {
        "id": "4lAQMKJ9mn6n"
      },
      "outputs": [],
      "source": [
        "pipeline.fit(X_train, y_train)"
      ]
    },
    {
      "cell_type": "code",
      "execution_count": null,
      "metadata": {
        "id": "_tjndr6Amn6n"
      },
      "outputs": [],
      "source": [
        "pd.DataFrame({\"columns\": features, \"coef\": pipeline[\"model\"].coef_})"
      ]
    },
    {
      "cell_type": "code",
      "execution_count": null,
      "metadata": {
        "id": "Uj3sh_MVmn6n"
      },
      "outputs": [],
      "source": [
        "pipeline[\"model\"].intercept_"
      ]
    },
    {
      "cell_type": "code",
      "execution_count": null,
      "metadata": {
        "id": "VUMDoKDzmn6o"
      },
      "outputs": [],
      "source": [
        "y_train.mean(), y_test.mean()"
      ]
    },
    {
      "cell_type": "markdown",
      "metadata": {
        "id": "w8heOlf2mn6o"
      },
      "source": [
        "Aunque tras la transformación de las variables de entrada se pierde un poco de interpretabilidad de los datos, los coeficientes de la regresión ahora son directamente comparables, pudiendo decir que la variable de entrada que mayor tiene impacto en la variable objetivo es `Shell Weight`, muy por encima de `Diameter` que es la siguiente en magnitud. No se debe olvidar los coeficientes negativos, particularmente el correspondiente a la variable `Shucked Weight`, el cuál tiene una magnitud alta muy similar a `Shell Weight` en términos de valor absoluto.\n",
        "\n",
        "La forma de entender el intercepto también cambia un poco. Al haber normalizado las variables de entrada, particularmente al haber centrado cada variable en cero removiendo su valor promedio, el valor del intercepto indica cual sería el valor de edad para un cangrejo promedio. Esto tiene sentido dado que corresponde con el valor promedio real (aproximado) de `Age` tanto para el conjunto de entrenamiento como para el de prueba."
      ]
    },
    {
      "cell_type": "code",
      "execution_count": null,
      "metadata": {
        "id": "44gzy-HBmn6o"
      },
      "outputs": [],
      "source": [
        "print(\"MAE:\")\n",
        "print(\"Train:\", mean_absolute_error(y_train, pipeline.predict(X_train)))\n",
        "print(\"Test:\", mean_absolute_error(y_test, pipeline.predict(X_test)))\n",
        "print(\"\\nRMSE:\")\n",
        "print(\"Train:\", np.sqrt(mean_squared_error(y_train, pipeline.predict(X_train))))\n",
        "print(\"Test:\", np.sqrt(mean_squared_error(y_test, pipeline.predict(X_test))))"
      ]
    },
    {
      "cell_type": "markdown",
      "metadata": {
        "id": "gkRcgBSbmn6p"
      },
      "source": [
        "<span style=\"color: red;\">Recuerde que la normalización de datos no siempre implica mejores métricas de error pero si garantiza un mejor proceso de entrenamiento y, dependiendo de la técnica de normalización utilizada, menor sensibilidad a valores atípicos.</span>"
      ]
    },
    {
      "cell_type": "markdown",
      "metadata": {
        "tags": [],
        "id": "sARLivV-mn6q"
      },
      "source": [
        "## 7. Validación de supuestos de la regresión\n",
        "\n",
        "La construcción de un buen modelo de Machine Learning va más allá de solamente minimizar las métricas de error. El modelo de regresión lineal, desde una perspectiva clásica, debería además cumplir con los siguientes supuestos:\n",
        "\n",
        "*Se volverán a revisar algunos aspectos que se habían descubierto en la etapa de entendimiento de los datos.*"
      ]
    },
    {
      "cell_type": "markdown",
      "metadata": {
        "tags": [],
        "id": "qqPEd0Dqmn6r"
      },
      "source": [
        "### 7.1. Colinealidad\n",
        "\n",
        "Es necesario que las variables utilizadas no tengan (o tengan muy baja) colinealidad (correlación)."
      ]
    },
    {
      "cell_type": "code",
      "execution_count": null,
      "metadata": {
        "id": "F-1RE1damn6s"
      },
      "outputs": [],
      "source": [
        "plt.figure(figsize=(12, 10))\n",
        "sns.heatmap(X_train.corr(), cmap=\"Blues\", vmin=0, vmax=1)"
      ]
    },
    {
      "cell_type": "code",
      "execution_count": null,
      "metadata": {
        "id": "dl4Sntxomn6s"
      },
      "outputs": [],
      "source": [
        "X_train.corr()"
      ]
    },
    {
      "cell_type": "markdown",
      "metadata": {
        "id": "ghkJfH1Gmn6s"
      },
      "source": [
        "En este caso particular, para evitar eliminar un importante número de variables, se opta por eliminar aquellas cuyo valor de correlación es superior al 90%."
      ]
    },
    {
      "cell_type": "code",
      "execution_count": null,
      "metadata": {
        "id": "c7e-78-imn6t"
      },
      "outputs": [],
      "source": [
        "features2 = [\"Length\", \"Height\", \"Shucked Weight\", \"Shell Weight\"]"
      ]
    },
    {
      "cell_type": "code",
      "execution_count": null,
      "metadata": {
        "id": "uadP0Ujcmn6t"
      },
      "outputs": [],
      "source": [
        "X_train[features2].corr()"
      ]
    },
    {
      "cell_type": "code",
      "execution_count": null,
      "metadata": {
        "id": "NVPJOcdXmn6t"
      },
      "outputs": [],
      "source": [
        "pipeline.fit(X_train[features2], y_train)"
      ]
    },
    {
      "cell_type": "code",
      "execution_count": null,
      "metadata": {
        "id": "wPLgomNxmn6t"
      },
      "outputs": [],
      "source": [
        "pd.DataFrame({\"columns\": features2, \"coef\": pipeline[\"model\"].coef_})"
      ]
    },
    {
      "cell_type": "code",
      "execution_count": null,
      "metadata": {
        "id": "lS4FE4anmn6t"
      },
      "outputs": [],
      "source": [
        "pipeline[\"model\"].intercept_"
      ]
    },
    {
      "cell_type": "code",
      "execution_count": null,
      "metadata": {
        "id": "EYcy4MkXmn6u"
      },
      "outputs": [],
      "source": [
        "print(\"MAE:\")\n",
        "print(\"Train:\", mean_absolute_error(y_train, pipeline.predict(X_train[features2])))\n",
        "print(\"Test:\", mean_absolute_error(y_test, pipeline.predict(X_test[features2])))\n",
        "print(\"\\nRMSE:\")\n",
        "print(\"Train:\", np.sqrt(mean_squared_error(y_train, pipeline.predict(X_train[features2]))))\n",
        "print(\"Test:\", np.sqrt(mean_squared_error(y_test, pipeline.predict(X_test[features2]))))"
      ]
    },
    {
      "cell_type": "markdown",
      "metadata": {
        "id": "x0TON9nYmn6u"
      },
      "source": [
        "Hay algunos argumentos para decir que este nuevo modelo podría considerarse mejor que los anteriores:\n",
        "1. Con el uso de menos variables de entrada (menor complejidad del modelo) se logra obtener unas métricas de error muy similares.\n",
        "2. Se evidencia un mejor balance entre coeficientes de `Length` y `Height`, sin embargo, aún se observa coeficientes altos para `Shucked Weight` y `Shell Weight`. Idealmente, los coeficientes deberían estar lo más balanceados posible para evitar que el modelo sesgue sus estimaciones con base en solo unas pocas variables."
      ]
    },
    {
      "cell_type": "markdown",
      "metadata": {
        "tags": [],
        "id": "GIDQpHPhmn6u"
      },
      "source": [
        "### 7.2. Linealidad\n",
        "\n",
        "Es necesario que la relación entre cada variable de entrada y la varable objetivo sea lineal.\n",
        "\n",
        "![lineal.png](attachment:lineal.png)"
      ]
    },
    {
      "cell_type": "code",
      "execution_count": null,
      "metadata": {
        "id": "BUbBXYyvmn6u"
      },
      "outputs": [],
      "source": [
        "sns.pairplot(pd.concat([X_train, y_train], axis=1), height=4, y_vars=\"Age\", x_vars=features2, kind=\"scatter\")"
      ]
    },
    {
      "cell_type": "markdown",
      "metadata": {
        "id": "H48tMInAmn6v"
      },
      "source": [
        "¿Es posible que `Shucked Weight` y `Shell Weight` tengan una relación no lineal?\n",
        "\n",
        "La forma más común de comprobarlo es agregar una transformación polinomial (PolynomialFeatures) de algún grado integrada al Pipeline. Tenga en cuenta que la transformación se aplicará a todas las variables de entrada y será labor del algoritmo de regresión determinar cuáles son las más relevantes para la estimación.\n",
        "\n",
        "La documentación oficial de PolynomialFeatures se puede encontrar aquí: https://scikit-learn.org/stable/modules/generated/sklearn.preprocessing.PolynomialFeatures.html."
      ]
    },
    {
      "cell_type": "code",
      "execution_count": null,
      "metadata": {
        "id": "fRH7GOA3mn6v"
      },
      "outputs": [],
      "source": [
        "pipeline = Pipeline(\n",
        "    [\n",
        "        (\"poly\", PolynomialFeatures(degree=2, include_bias=False)),\n",
        "        (\"scaler\", StandardScaler()),\n",
        "        (\"model\", LinearRegression())\n",
        "    ]\n",
        ")"
      ]
    },
    {
      "cell_type": "code",
      "execution_count": null,
      "metadata": {
        "id": "8LukOhBumn6v"
      },
      "outputs": [],
      "source": [
        "pipeline.fit(X_train[features2], y_train)"
      ]
    },
    {
      "cell_type": "code",
      "execution_count": null,
      "metadata": {
        "id": "qDGHby96mn6w"
      },
      "outputs": [],
      "source": [
        "pd.DataFrame({\"columns\": pipeline[\"poly\"].get_feature_names_out(), \"coef\": pipeline[\"model\"].coef_})"
      ]
    },
    {
      "cell_type": "markdown",
      "metadata": {
        "id": "18d-o_komn6w"
      },
      "source": [
        "<span style=\"color: red;\">Note que PolynomialFeatures no solo transforma las variables de entrada aplicando el grado deseado, también conserva las variables originales e incluye interacciones (multiplicación) entre estas. Esto hace que la interpretación de los coeficientes se vuelva más dificil.</span>"
      ]
    },
    {
      "cell_type": "code",
      "execution_count": null,
      "metadata": {
        "id": "qqsd2qWDmn6w"
      },
      "outputs": [],
      "source": [
        "print(\"MAE:\")\n",
        "print(\"Train:\", mean_absolute_error(y_train, pipeline.predict(X_train[features2])))\n",
        "print(\"Test:\", mean_absolute_error(y_test, pipeline.predict(X_test[features2])))\n",
        "print(\"\\nRMSE:\")\n",
        "print(\"Train:\", np.sqrt(mean_squared_error(y_train, pipeline.predict(X_train[features2]))))\n",
        "print(\"Test:\", np.sqrt(mean_squared_error(y_test, pipeline.predict(X_test[features2]))))"
      ]
    },
    {
      "cell_type": "markdown",
      "metadata": {
        "id": "qvKnGRhamn6x"
      },
      "source": [
        "Nuevamente, aplicar este tipo de ajustes no asegura obtener un modelo con un menor error. Algunas razones por las cuáles el RMSE en el dataset de prueba aumento en lugar de disminuir pueden ser:\n",
        "\n",
        "1. La existencia de algunos valores atípicos solamente en el dataset de test los cuales se agravaron al aplicar la transformación polinomial.\n",
        "2. Tal como se videncia en las gráficas anteriores, si bien la relación con la variable objetivo puede no ser lineal, lo más probable es que tampoco sea polinómica sino más bien logaritmica."
      ]
    },
    {
      "cell_type": "markdown",
      "metadata": {
        "tags": [],
        "id": "eGe4PdaDmn6x"
      },
      "source": [
        "### 7.3. Normalidad de los errores\n",
        "\n",
        "Los errores deben tener una distribución normal."
      ]
    },
    {
      "cell_type": "markdown",
      "metadata": {
        "id": "qqseHGSqmn6x"
      },
      "source": [
        "![dist.png](attachment:dist.png)"
      ]
    },
    {
      "cell_type": "markdown",
      "metadata": {
        "id": "FtRSea-Dmn6y"
      },
      "source": [
        "![dist2.png](attachment:dist2.png)"
      ]
    },
    {
      "cell_type": "code",
      "execution_count": null,
      "metadata": {
        "id": "LLwPvOujmn6y"
      },
      "outputs": [],
      "source": [
        "pipeline = Pipeline(\n",
        "    [\n",
        "        (\"scaler\", StandardScaler()),\n",
        "        (\"model\", LinearRegression())\n",
        "    ]\n",
        ")"
      ]
    },
    {
      "cell_type": "code",
      "execution_count": null,
      "metadata": {
        "id": "oOrA6vvlmn6y"
      },
      "outputs": [],
      "source": [
        "pipeline.fit(X_train[features2], y_train)"
      ]
    },
    {
      "cell_type": "code",
      "execution_count": null,
      "metadata": {
        "id": "2iYmgZw6mn6z"
      },
      "outputs": [],
      "source": [
        "errors = (pipeline.predict(X_train[features2])-y_train).values"
      ]
    },
    {
      "cell_type": "markdown",
      "metadata": {
        "id": "Mh3vU2S2mn6z"
      },
      "source": [
        "Valores negativos indican subestimación mientras que valores positivos indican sobreestimación."
      ]
    },
    {
      "cell_type": "code",
      "execution_count": null,
      "metadata": {
        "id": "TUQ98H_imn60"
      },
      "outputs": [],
      "source": [
        "fig, axes = plt.subplots(1, 2, figsize=(12, 4))\n",
        "\n",
        "# Dispersión\n",
        "sns.scatterplot(x=pipeline.predict(X_train[features2]), y=errors, alpha=0.1, ax=axes[0])\n",
        "\n",
        "# q-q plot\n",
        "_ = stats.probplot(errors, dist=\"norm\", plot=axes[1])"
      ]
    },
    {
      "cell_type": "markdown",
      "metadata": {
        "id": "AnXteNO0mn60"
      },
      "source": [
        "Una estrategia para mejorar este escenario es eliminar los registros cuyo valor de variable objetivo pueda considerarse un valor atípico."
      ]
    },
    {
      "cell_type": "code",
      "execution_count": null,
      "metadata": {
        "id": "KgVUCRrWmn61"
      },
      "outputs": [],
      "source": [
        "plt.figure(figsize=(20, 3))\n",
        "sns.boxplot(x=y_train, showmeans=True, orient=\"h\")\n",
        "plt.title(\"Valor real de $\\t{Age}$ en el conjunto de entrenamiento\")\n",
        "plt.grid()\n",
        "plt.show()"
      ]
    },
    {
      "cell_type": "markdown",
      "metadata": {
        "id": "c9EzxmYzmn62"
      },
      "source": [
        "Para determinar los valores atípicos a remover se puede aplicar la regla $$outlier > Q3 + 1.5*IQR$$"
      ]
    },
    {
      "cell_type": "code",
      "execution_count": null,
      "metadata": {
        "id": "Sf_solsWmn62"
      },
      "outputs": [],
      "source": [
        "q1 = y_train.quantile(0.25)\n",
        "q3 = y_train.quantile(0.75)\n",
        "iqr = q3-q1\n",
        "threshold = q3+1.5*iqr\n",
        "threshold"
      ]
    },
    {
      "cell_type": "code",
      "execution_count": null,
      "metadata": {
        "id": "nABZ6Nbcmn62"
      },
      "outputs": [],
      "source": [
        "y_train = y_train.loc[y_train <= threshold]\n",
        "X_train = X_train.loc[y_train.index]"
      ]
    },
    {
      "cell_type": "code",
      "execution_count": null,
      "metadata": {
        "id": "y4QinZSmmn62"
      },
      "outputs": [],
      "source": [
        "y_test = y_test.loc[y_test <= threshold]\n",
        "X_test = X_test.loc[y_test.index]"
      ]
    },
    {
      "cell_type": "code",
      "execution_count": null,
      "metadata": {
        "id": "xGaMlhq3mn63"
      },
      "outputs": [],
      "source": [
        "pipeline.fit(X_train[features2], y_train)"
      ]
    },
    {
      "cell_type": "code",
      "execution_count": null,
      "metadata": {
        "id": "WDbK66HCmn63"
      },
      "outputs": [],
      "source": [
        "pd.DataFrame({\"columns\": features2, \"coef\": pipeline[\"model\"].coef_})"
      ]
    },
    {
      "cell_type": "code",
      "execution_count": null,
      "metadata": {
        "id": "4H3HFRA8mn63"
      },
      "outputs": [],
      "source": [
        "print(\"MAE:\")\n",
        "print(\"Train:\", mean_absolute_error(y_train, pipeline.predict(X_train[features2])))\n",
        "print(\"Test:\", mean_absolute_error(y_test, pipeline.predict(X_test[features2])))\n",
        "print(\"\\nRMSE:\")\n",
        "print(\"Train:\", np.sqrt(mean_squared_error(y_train, pipeline.predict(X_train[features2]))))\n",
        "print(\"Test:\", np.sqrt(mean_squared_error(y_test, pipeline.predict(X_test[features2]))))"
      ]
    },
    {
      "cell_type": "code",
      "execution_count": null,
      "metadata": {
        "id": "LLBVX00Qmn63"
      },
      "outputs": [],
      "source": [
        "errors = (pipeline.predict(X_train[features2])-y_train).values"
      ]
    },
    {
      "cell_type": "code",
      "execution_count": null,
      "metadata": {
        "id": "oOMWIdUymn63"
      },
      "outputs": [],
      "source": [
        "fig, axes = plt.subplots(1, 2, figsize=(12, 4))\n",
        "\n",
        "# Dispersión\n",
        "sns.scatterplot(x=pipeline.predict(X_train[features2]), y=errors, alpha=0.1, ax=axes[0])\n",
        "\n",
        "# q-q plot\n",
        "_ = stats.probplot(errors, dist=\"norm\", plot=axes[1])"
      ]
    },
    {
      "cell_type": "markdown",
      "metadata": {
        "id": "y18-3VG_mn64"
      },
      "source": [
        "Se siguen teniendo mejoras en las métricas de error y se resuelve el problema de no normalidad de los errores.\n",
        "\n",
        "<span style=\"color: red;\">Desde el punto de vista de la estadística clásica esto está bien, pero también se debe preguntar: Si las canciones removidas son atípicas pero reales, es decir no obedecen a un problema en los datos, ¿qué decisión debería tomar el modelo en estos casos? ¿Cómo construir un modelo que sea más robusto a valores atípicos?</span>"
      ]
    },
    {
      "cell_type": "markdown",
      "metadata": {
        "tags": [],
        "id": "4LR8g2Rvmn64"
      },
      "source": [
        "### 7.4 Varianza constante (Homocedasticidad)\n",
        "\n",
        "La varianza en los errores debe mantenerse constante a medida que varia la variable objetivo.\n",
        "\n",
        "![variance.png](attachment:variance.png)"
      ]
    },
    {
      "cell_type": "code",
      "execution_count": null,
      "metadata": {
        "id": "IF06C9rzmn64"
      },
      "outputs": [],
      "source": [
        "sns.scatterplot(x = pipeline.predict(X_train[features2]), y=errors, alpha=0.1)"
      ]
    },
    {
      "cell_type": "markdown",
      "metadata": {
        "id": "WbJ9K_4gmn65"
      },
      "source": [
        "Este problema podría resolverse aplicando nuevamente transformaciones no lineales sobre las variables de entrada. Por otro lado, también puede indicar que hacen falta variables de entrada que ayuden a representar apropiadamente la variable objetivo."
      ]
    },
    {
      "cell_type": "markdown",
      "metadata": {
        "tags": [],
        "id": "WXCoGFe2mn66"
      },
      "source": [
        "## 8. Persistencia del modelo\n",
        "\n",
        "Una vez que el modelo está listo, ¿cómo ponerlo en producción para que realice estimaciones para datos futuos?\n",
        "\n",
        "Se debe empezar por persistir el modelo a un archivo binario para que posteriormente pueda ser reutilizado desde cualquier script o servicio."
      ]
    },
    {
      "cell_type": "code",
      "execution_count": null,
      "metadata": {
        "id": "A31cYOlkmn66"
      },
      "outputs": [],
      "source": [
        "filename = \"model.joblib\""
      ]
    },
    {
      "cell_type": "code",
      "execution_count": null,
      "metadata": {
        "id": "Hcorg1y7mn67"
      },
      "outputs": [],
      "source": [
        "dump(pipeline, filename)"
      ]
    },
    {
      "cell_type": "code",
      "execution_count": null,
      "metadata": {
        "id": "78OgcdCBmn68"
      },
      "outputs": [],
      "source": [
        "pipeline_loaded = load(filename)"
      ]
    },
    {
      "cell_type": "code",
      "execution_count": null,
      "metadata": {
        "id": "T2ad1pRQmn68"
      },
      "outputs": [],
      "source": []
    }
  ],
  "metadata": {
    "kernelspec": {
      "display_name": "Python 3 (ipykernel)",
      "language": "python",
      "name": "python3"
    },
    "language_info": {
      "codemirror_mode": {
        "name": "ipython",
        "version": 3
      },
      "file_extension": ".py",
      "mimetype": "text/x-python",
      "name": "python",
      "nbconvert_exporter": "python",
      "pygments_lexer": "ipython3",
      "version": "3.9.12"
    },
    "toc-autonumbering": false,
    "toc-showcode": true,
    "toc-showmarkdowntxt": false,
    "toc-showtags": true,
    "colab": {
      "provenance": []
    }
  },
  "nbformat": 4,
  "nbformat_minor": 0
}